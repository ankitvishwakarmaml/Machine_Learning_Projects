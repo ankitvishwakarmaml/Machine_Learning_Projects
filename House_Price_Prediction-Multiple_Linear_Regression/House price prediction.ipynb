{
 "cells": [
  {
   "cell_type": "code",
   "execution_count": 1,
   "metadata": {},
   "outputs": [],
   "source": [
    "\n",
    "# importing requirements\n",
    "\n",
    "import pandas as pd\n",
    "import numpy as np\n",
    "import plotly.express as px\n",
    "import matplotlib\n",
    "import matplotlib.pyplot as plt\n",
    "%matplotlib inline\n",
    "import seaborn as sns\n",
    "from sklearn.model_selection import train_test_split\n",
    "from sklearn.linear_model import LinearRegression\n",
    "from sklearn.metrics import mean_absolute_error, mean_squared_error, r2_score\n",
    "from sklearn import preprocessing\n",
    "import warnings\n",
    "warnings.filterwarnings('ignore')\n",
    "sns.set_style('darkgrid')\n",
    "matplotlib.rcParams['font.size'] = 12"
   ]
  },
  {
   "cell_type": "code",
   "execution_count": 2,
   "metadata": {},
   "outputs": [],
   "source": [
    "house_df = pd.read_csv('Real estate.csv')"
   ]
  },
  {
   "cell_type": "code",
   "execution_count": 3,
   "metadata": {},
   "outputs": [
    {
     "data": {
      "text/html": [
       "<div>\n",
       "<style scoped>\n",
       "    .dataframe tbody tr th:only-of-type {\n",
       "        vertical-align: middle;\n",
       "    }\n",
       "\n",
       "    .dataframe tbody tr th {\n",
       "        vertical-align: top;\n",
       "    }\n",
       "\n",
       "    .dataframe thead th {\n",
       "        text-align: right;\n",
       "    }\n",
       "</style>\n",
       "<table border=\"1\" class=\"dataframe\">\n",
       "  <thead>\n",
       "    <tr style=\"text-align: right;\">\n",
       "      <th></th>\n",
       "      <th>No</th>\n",
       "      <th>X1 transaction date</th>\n",
       "      <th>X2 house age</th>\n",
       "      <th>X3 distance to the nearest MRT station</th>\n",
       "      <th>X4 number of convenience stores</th>\n",
       "      <th>X5 latitude</th>\n",
       "      <th>X6 longitude</th>\n",
       "      <th>Y house price of unit area</th>\n",
       "    </tr>\n",
       "  </thead>\n",
       "  <tbody>\n",
       "    <tr>\n",
       "      <th>0</th>\n",
       "      <td>1</td>\n",
       "      <td>2012.917</td>\n",
       "      <td>32.0</td>\n",
       "      <td>84.87882</td>\n",
       "      <td>10</td>\n",
       "      <td>24.98298</td>\n",
       "      <td>121.54024</td>\n",
       "      <td>37.9</td>\n",
       "    </tr>\n",
       "    <tr>\n",
       "      <th>1</th>\n",
       "      <td>2</td>\n",
       "      <td>2012.917</td>\n",
       "      <td>19.5</td>\n",
       "      <td>306.59470</td>\n",
       "      <td>9</td>\n",
       "      <td>24.98034</td>\n",
       "      <td>121.53951</td>\n",
       "      <td>42.2</td>\n",
       "    </tr>\n",
       "    <tr>\n",
       "      <th>2</th>\n",
       "      <td>3</td>\n",
       "      <td>2013.583</td>\n",
       "      <td>13.3</td>\n",
       "      <td>561.98450</td>\n",
       "      <td>5</td>\n",
       "      <td>24.98746</td>\n",
       "      <td>121.54391</td>\n",
       "      <td>47.3</td>\n",
       "    </tr>\n",
       "    <tr>\n",
       "      <th>3</th>\n",
       "      <td>4</td>\n",
       "      <td>2013.500</td>\n",
       "      <td>13.3</td>\n",
       "      <td>561.98450</td>\n",
       "      <td>5</td>\n",
       "      <td>24.98746</td>\n",
       "      <td>121.54391</td>\n",
       "      <td>54.8</td>\n",
       "    </tr>\n",
       "    <tr>\n",
       "      <th>4</th>\n",
       "      <td>5</td>\n",
       "      <td>2012.833</td>\n",
       "      <td>5.0</td>\n",
       "      <td>390.56840</td>\n",
       "      <td>5</td>\n",
       "      <td>24.97937</td>\n",
       "      <td>121.54245</td>\n",
       "      <td>43.1</td>\n",
       "    </tr>\n",
       "    <tr>\n",
       "      <th>...</th>\n",
       "      <td>...</td>\n",
       "      <td>...</td>\n",
       "      <td>...</td>\n",
       "      <td>...</td>\n",
       "      <td>...</td>\n",
       "      <td>...</td>\n",
       "      <td>...</td>\n",
       "      <td>...</td>\n",
       "    </tr>\n",
       "    <tr>\n",
       "      <th>409</th>\n",
       "      <td>410</td>\n",
       "      <td>2013.000</td>\n",
       "      <td>13.7</td>\n",
       "      <td>4082.01500</td>\n",
       "      <td>0</td>\n",
       "      <td>24.94155</td>\n",
       "      <td>121.50381</td>\n",
       "      <td>15.4</td>\n",
       "    </tr>\n",
       "    <tr>\n",
       "      <th>410</th>\n",
       "      <td>411</td>\n",
       "      <td>2012.667</td>\n",
       "      <td>5.6</td>\n",
       "      <td>90.45606</td>\n",
       "      <td>9</td>\n",
       "      <td>24.97433</td>\n",
       "      <td>121.54310</td>\n",
       "      <td>50.0</td>\n",
       "    </tr>\n",
       "    <tr>\n",
       "      <th>411</th>\n",
       "      <td>412</td>\n",
       "      <td>2013.250</td>\n",
       "      <td>18.8</td>\n",
       "      <td>390.96960</td>\n",
       "      <td>7</td>\n",
       "      <td>24.97923</td>\n",
       "      <td>121.53986</td>\n",
       "      <td>40.6</td>\n",
       "    </tr>\n",
       "    <tr>\n",
       "      <th>412</th>\n",
       "      <td>413</td>\n",
       "      <td>2013.000</td>\n",
       "      <td>8.1</td>\n",
       "      <td>104.81010</td>\n",
       "      <td>5</td>\n",
       "      <td>24.96674</td>\n",
       "      <td>121.54067</td>\n",
       "      <td>52.5</td>\n",
       "    </tr>\n",
       "    <tr>\n",
       "      <th>413</th>\n",
       "      <td>414</td>\n",
       "      <td>2013.500</td>\n",
       "      <td>6.5</td>\n",
       "      <td>90.45606</td>\n",
       "      <td>9</td>\n",
       "      <td>24.97433</td>\n",
       "      <td>121.54310</td>\n",
       "      <td>63.9</td>\n",
       "    </tr>\n",
       "  </tbody>\n",
       "</table>\n",
       "<p>414 rows × 8 columns</p>\n",
       "</div>"
      ],
      "text/plain": [
       "      No  X1 transaction date  X2 house age  \\\n",
       "0      1             2012.917          32.0   \n",
       "1      2             2012.917          19.5   \n",
       "2      3             2013.583          13.3   \n",
       "3      4             2013.500          13.3   \n",
       "4      5             2012.833           5.0   \n",
       "..   ...                  ...           ...   \n",
       "409  410             2013.000          13.7   \n",
       "410  411             2012.667           5.6   \n",
       "411  412             2013.250          18.8   \n",
       "412  413             2013.000           8.1   \n",
       "413  414             2013.500           6.5   \n",
       "\n",
       "     X3 distance to the nearest MRT station  X4 number of convenience stores  \\\n",
       "0                                  84.87882                               10   \n",
       "1                                 306.59470                                9   \n",
       "2                                 561.98450                                5   \n",
       "3                                 561.98450                                5   \n",
       "4                                 390.56840                                5   \n",
       "..                                      ...                              ...   \n",
       "409                              4082.01500                                0   \n",
       "410                                90.45606                                9   \n",
       "411                               390.96960                                7   \n",
       "412                               104.81010                                5   \n",
       "413                                90.45606                                9   \n",
       "\n",
       "     X5 latitude  X6 longitude  Y house price of unit area  \n",
       "0       24.98298     121.54024                        37.9  \n",
       "1       24.98034     121.53951                        42.2  \n",
       "2       24.98746     121.54391                        47.3  \n",
       "3       24.98746     121.54391                        54.8  \n",
       "4       24.97937     121.54245                        43.1  \n",
       "..           ...           ...                         ...  \n",
       "409     24.94155     121.50381                        15.4  \n",
       "410     24.97433     121.54310                        50.0  \n",
       "411     24.97923     121.53986                        40.6  \n",
       "412     24.96674     121.54067                        52.5  \n",
       "413     24.97433     121.54310                        63.9  \n",
       "\n",
       "[414 rows x 8 columns]"
      ]
     },
     "execution_count": 3,
     "metadata": {},
     "output_type": "execute_result"
    }
   ],
   "source": [
    "house_df"
   ]
  },
  {
   "cell_type": "markdown",
   "metadata": {},
   "source": [
    "## Data Cleaning"
   ]
  },
  {
   "cell_type": "code",
   "execution_count": 4,
   "metadata": {},
   "outputs": [],
   "source": [
    "# Removing the invalid date and month (just considering year)\n",
    "house_df['X1 transaction date'] = house_df['X1 transaction date'].astype(int)"
   ]
  },
  {
   "cell_type": "code",
   "execution_count": 5,
   "metadata": {},
   "outputs": [
    {
     "data": {
      "text/html": [
       "<div>\n",
       "<style scoped>\n",
       "    .dataframe tbody tr th:only-of-type {\n",
       "        vertical-align: middle;\n",
       "    }\n",
       "\n",
       "    .dataframe tbody tr th {\n",
       "        vertical-align: top;\n",
       "    }\n",
       "\n",
       "    .dataframe thead th {\n",
       "        text-align: right;\n",
       "    }\n",
       "</style>\n",
       "<table border=\"1\" class=\"dataframe\">\n",
       "  <thead>\n",
       "    <tr style=\"text-align: right;\">\n",
       "      <th></th>\n",
       "      <th>No</th>\n",
       "      <th>X1 transaction date</th>\n",
       "      <th>X2 house age</th>\n",
       "      <th>X3 distance to the nearest MRT station</th>\n",
       "      <th>X4 number of convenience stores</th>\n",
       "      <th>X5 latitude</th>\n",
       "      <th>X6 longitude</th>\n",
       "      <th>Y house price of unit area</th>\n",
       "    </tr>\n",
       "  </thead>\n",
       "  <tbody>\n",
       "    <tr>\n",
       "      <th>0</th>\n",
       "      <td>1</td>\n",
       "      <td>2012</td>\n",
       "      <td>32.0</td>\n",
       "      <td>84.87882</td>\n",
       "      <td>10</td>\n",
       "      <td>24.98298</td>\n",
       "      <td>121.54024</td>\n",
       "      <td>37.9</td>\n",
       "    </tr>\n",
       "    <tr>\n",
       "      <th>1</th>\n",
       "      <td>2</td>\n",
       "      <td>2012</td>\n",
       "      <td>19.5</td>\n",
       "      <td>306.59470</td>\n",
       "      <td>9</td>\n",
       "      <td>24.98034</td>\n",
       "      <td>121.53951</td>\n",
       "      <td>42.2</td>\n",
       "    </tr>\n",
       "    <tr>\n",
       "      <th>2</th>\n",
       "      <td>3</td>\n",
       "      <td>2013</td>\n",
       "      <td>13.3</td>\n",
       "      <td>561.98450</td>\n",
       "      <td>5</td>\n",
       "      <td>24.98746</td>\n",
       "      <td>121.54391</td>\n",
       "      <td>47.3</td>\n",
       "    </tr>\n",
       "    <tr>\n",
       "      <th>3</th>\n",
       "      <td>4</td>\n",
       "      <td>2013</td>\n",
       "      <td>13.3</td>\n",
       "      <td>561.98450</td>\n",
       "      <td>5</td>\n",
       "      <td>24.98746</td>\n",
       "      <td>121.54391</td>\n",
       "      <td>54.8</td>\n",
       "    </tr>\n",
       "    <tr>\n",
       "      <th>4</th>\n",
       "      <td>5</td>\n",
       "      <td>2012</td>\n",
       "      <td>5.0</td>\n",
       "      <td>390.56840</td>\n",
       "      <td>5</td>\n",
       "      <td>24.97937</td>\n",
       "      <td>121.54245</td>\n",
       "      <td>43.1</td>\n",
       "    </tr>\n",
       "    <tr>\n",
       "      <th>...</th>\n",
       "      <td>...</td>\n",
       "      <td>...</td>\n",
       "      <td>...</td>\n",
       "      <td>...</td>\n",
       "      <td>...</td>\n",
       "      <td>...</td>\n",
       "      <td>...</td>\n",
       "      <td>...</td>\n",
       "    </tr>\n",
       "    <tr>\n",
       "      <th>409</th>\n",
       "      <td>410</td>\n",
       "      <td>2013</td>\n",
       "      <td>13.7</td>\n",
       "      <td>4082.01500</td>\n",
       "      <td>0</td>\n",
       "      <td>24.94155</td>\n",
       "      <td>121.50381</td>\n",
       "      <td>15.4</td>\n",
       "    </tr>\n",
       "    <tr>\n",
       "      <th>410</th>\n",
       "      <td>411</td>\n",
       "      <td>2012</td>\n",
       "      <td>5.6</td>\n",
       "      <td>90.45606</td>\n",
       "      <td>9</td>\n",
       "      <td>24.97433</td>\n",
       "      <td>121.54310</td>\n",
       "      <td>50.0</td>\n",
       "    </tr>\n",
       "    <tr>\n",
       "      <th>411</th>\n",
       "      <td>412</td>\n",
       "      <td>2013</td>\n",
       "      <td>18.8</td>\n",
       "      <td>390.96960</td>\n",
       "      <td>7</td>\n",
       "      <td>24.97923</td>\n",
       "      <td>121.53986</td>\n",
       "      <td>40.6</td>\n",
       "    </tr>\n",
       "    <tr>\n",
       "      <th>412</th>\n",
       "      <td>413</td>\n",
       "      <td>2013</td>\n",
       "      <td>8.1</td>\n",
       "      <td>104.81010</td>\n",
       "      <td>5</td>\n",
       "      <td>24.96674</td>\n",
       "      <td>121.54067</td>\n",
       "      <td>52.5</td>\n",
       "    </tr>\n",
       "    <tr>\n",
       "      <th>413</th>\n",
       "      <td>414</td>\n",
       "      <td>2013</td>\n",
       "      <td>6.5</td>\n",
       "      <td>90.45606</td>\n",
       "      <td>9</td>\n",
       "      <td>24.97433</td>\n",
       "      <td>121.54310</td>\n",
       "      <td>63.9</td>\n",
       "    </tr>\n",
       "  </tbody>\n",
       "</table>\n",
       "<p>414 rows × 8 columns</p>\n",
       "</div>"
      ],
      "text/plain": [
       "      No  X1 transaction date  X2 house age  \\\n",
       "0      1                 2012          32.0   \n",
       "1      2                 2012          19.5   \n",
       "2      3                 2013          13.3   \n",
       "3      4                 2013          13.3   \n",
       "4      5                 2012           5.0   \n",
       "..   ...                  ...           ...   \n",
       "409  410                 2013          13.7   \n",
       "410  411                 2012           5.6   \n",
       "411  412                 2013          18.8   \n",
       "412  413                 2013           8.1   \n",
       "413  414                 2013           6.5   \n",
       "\n",
       "     X3 distance to the nearest MRT station  X4 number of convenience stores  \\\n",
       "0                                  84.87882                               10   \n",
       "1                                 306.59470                                9   \n",
       "2                                 561.98450                                5   \n",
       "3                                 561.98450                                5   \n",
       "4                                 390.56840                                5   \n",
       "..                                      ...                              ...   \n",
       "409                              4082.01500                                0   \n",
       "410                                90.45606                                9   \n",
       "411                               390.96960                                7   \n",
       "412                               104.81010                                5   \n",
       "413                                90.45606                                9   \n",
       "\n",
       "     X5 latitude  X6 longitude  Y house price of unit area  \n",
       "0       24.98298     121.54024                        37.9  \n",
       "1       24.98034     121.53951                        42.2  \n",
       "2       24.98746     121.54391                        47.3  \n",
       "3       24.98746     121.54391                        54.8  \n",
       "4       24.97937     121.54245                        43.1  \n",
       "..           ...           ...                         ...  \n",
       "409     24.94155     121.50381                        15.4  \n",
       "410     24.97433     121.54310                        50.0  \n",
       "411     24.97923     121.53986                        40.6  \n",
       "412     24.96674     121.54067                        52.5  \n",
       "413     24.97433     121.54310                        63.9  \n",
       "\n",
       "[414 rows x 8 columns]"
      ]
     },
     "execution_count": 5,
     "metadata": {},
     "output_type": "execute_result"
    }
   ],
   "source": [
    "house_df"
   ]
  },
  {
   "cell_type": "code",
   "execution_count": 6,
   "metadata": {},
   "outputs": [],
   "source": [
    "# Changing the column names\n",
    "house_df.rename(columns = {'X1 transaction date' : 'transaction_year'}, inplace = True)\n",
    "house_df.rename(columns = {'X2 house age' : 'house_age'}, inplace = True)\n",
    "house_df.rename(columns = {'X3 distance to the nearest MRT station' : 'nearest_mrt_station'}, inplace = True)\n",
    "house_df.rename(columns = {'X4 number of convenience stores' : 'no_of_stores_nearby'}, inplace = True)\n",
    "house_df.rename(columns = {'X5 latitude' : 'latitude'}, inplace = True)\n",
    "house_df.rename(columns = {'X6 longitude' : 'longitude'}, inplace = True)\n",
    "house_df.rename(columns = {'Y house price of unit area' : 'house_price_of_unit_area'}, inplace = True)"
   ]
  },
  {
   "cell_type": "code",
   "execution_count": 7,
   "metadata": {},
   "outputs": [],
   "source": [
    "house_df['house_age'] = house_df['house_age'].astype(int)"
   ]
  },
  {
   "cell_type": "code",
   "execution_count": 8,
   "metadata": {},
   "outputs": [
    {
     "data": {
      "text/html": [
       "<div>\n",
       "<style scoped>\n",
       "    .dataframe tbody tr th:only-of-type {\n",
       "        vertical-align: middle;\n",
       "    }\n",
       "\n",
       "    .dataframe tbody tr th {\n",
       "        vertical-align: top;\n",
       "    }\n",
       "\n",
       "    .dataframe thead th {\n",
       "        text-align: right;\n",
       "    }\n",
       "</style>\n",
       "<table border=\"1\" class=\"dataframe\">\n",
       "  <thead>\n",
       "    <tr style=\"text-align: right;\">\n",
       "      <th></th>\n",
       "      <th>No</th>\n",
       "      <th>transaction_year</th>\n",
       "      <th>house_age</th>\n",
       "      <th>nearest_mrt_station</th>\n",
       "      <th>no_of_stores_nearby</th>\n",
       "      <th>latitude</th>\n",
       "      <th>longitude</th>\n",
       "      <th>house_price_of_unit_area</th>\n",
       "    </tr>\n",
       "  </thead>\n",
       "  <tbody>\n",
       "    <tr>\n",
       "      <th>0</th>\n",
       "      <td>1</td>\n",
       "      <td>2012</td>\n",
       "      <td>32</td>\n",
       "      <td>84.87882</td>\n",
       "      <td>10</td>\n",
       "      <td>24.98298</td>\n",
       "      <td>121.54024</td>\n",
       "      <td>37.9</td>\n",
       "    </tr>\n",
       "    <tr>\n",
       "      <th>1</th>\n",
       "      <td>2</td>\n",
       "      <td>2012</td>\n",
       "      <td>19</td>\n",
       "      <td>306.59470</td>\n",
       "      <td>9</td>\n",
       "      <td>24.98034</td>\n",
       "      <td>121.53951</td>\n",
       "      <td>42.2</td>\n",
       "    </tr>\n",
       "    <tr>\n",
       "      <th>2</th>\n",
       "      <td>3</td>\n",
       "      <td>2013</td>\n",
       "      <td>13</td>\n",
       "      <td>561.98450</td>\n",
       "      <td>5</td>\n",
       "      <td>24.98746</td>\n",
       "      <td>121.54391</td>\n",
       "      <td>47.3</td>\n",
       "    </tr>\n",
       "    <tr>\n",
       "      <th>3</th>\n",
       "      <td>4</td>\n",
       "      <td>2013</td>\n",
       "      <td>13</td>\n",
       "      <td>561.98450</td>\n",
       "      <td>5</td>\n",
       "      <td>24.98746</td>\n",
       "      <td>121.54391</td>\n",
       "      <td>54.8</td>\n",
       "    </tr>\n",
       "    <tr>\n",
       "      <th>4</th>\n",
       "      <td>5</td>\n",
       "      <td>2012</td>\n",
       "      <td>5</td>\n",
       "      <td>390.56840</td>\n",
       "      <td>5</td>\n",
       "      <td>24.97937</td>\n",
       "      <td>121.54245</td>\n",
       "      <td>43.1</td>\n",
       "    </tr>\n",
       "    <tr>\n",
       "      <th>...</th>\n",
       "      <td>...</td>\n",
       "      <td>...</td>\n",
       "      <td>...</td>\n",
       "      <td>...</td>\n",
       "      <td>...</td>\n",
       "      <td>...</td>\n",
       "      <td>...</td>\n",
       "      <td>...</td>\n",
       "    </tr>\n",
       "    <tr>\n",
       "      <th>409</th>\n",
       "      <td>410</td>\n",
       "      <td>2013</td>\n",
       "      <td>13</td>\n",
       "      <td>4082.01500</td>\n",
       "      <td>0</td>\n",
       "      <td>24.94155</td>\n",
       "      <td>121.50381</td>\n",
       "      <td>15.4</td>\n",
       "    </tr>\n",
       "    <tr>\n",
       "      <th>410</th>\n",
       "      <td>411</td>\n",
       "      <td>2012</td>\n",
       "      <td>5</td>\n",
       "      <td>90.45606</td>\n",
       "      <td>9</td>\n",
       "      <td>24.97433</td>\n",
       "      <td>121.54310</td>\n",
       "      <td>50.0</td>\n",
       "    </tr>\n",
       "    <tr>\n",
       "      <th>411</th>\n",
       "      <td>412</td>\n",
       "      <td>2013</td>\n",
       "      <td>18</td>\n",
       "      <td>390.96960</td>\n",
       "      <td>7</td>\n",
       "      <td>24.97923</td>\n",
       "      <td>121.53986</td>\n",
       "      <td>40.6</td>\n",
       "    </tr>\n",
       "    <tr>\n",
       "      <th>412</th>\n",
       "      <td>413</td>\n",
       "      <td>2013</td>\n",
       "      <td>8</td>\n",
       "      <td>104.81010</td>\n",
       "      <td>5</td>\n",
       "      <td>24.96674</td>\n",
       "      <td>121.54067</td>\n",
       "      <td>52.5</td>\n",
       "    </tr>\n",
       "    <tr>\n",
       "      <th>413</th>\n",
       "      <td>414</td>\n",
       "      <td>2013</td>\n",
       "      <td>6</td>\n",
       "      <td>90.45606</td>\n",
       "      <td>9</td>\n",
       "      <td>24.97433</td>\n",
       "      <td>121.54310</td>\n",
       "      <td>63.9</td>\n",
       "    </tr>\n",
       "  </tbody>\n",
       "</table>\n",
       "<p>414 rows × 8 columns</p>\n",
       "</div>"
      ],
      "text/plain": [
       "      No  transaction_year  house_age  nearest_mrt_station  \\\n",
       "0      1              2012         32             84.87882   \n",
       "1      2              2012         19            306.59470   \n",
       "2      3              2013         13            561.98450   \n",
       "3      4              2013         13            561.98450   \n",
       "4      5              2012          5            390.56840   \n",
       "..   ...               ...        ...                  ...   \n",
       "409  410              2013         13           4082.01500   \n",
       "410  411              2012          5             90.45606   \n",
       "411  412              2013         18            390.96960   \n",
       "412  413              2013          8            104.81010   \n",
       "413  414              2013          6             90.45606   \n",
       "\n",
       "     no_of_stores_nearby  latitude  longitude  house_price_of_unit_area  \n",
       "0                     10  24.98298  121.54024                      37.9  \n",
       "1                      9  24.98034  121.53951                      42.2  \n",
       "2                      5  24.98746  121.54391                      47.3  \n",
       "3                      5  24.98746  121.54391                      54.8  \n",
       "4                      5  24.97937  121.54245                      43.1  \n",
       "..                   ...       ...        ...                       ...  \n",
       "409                    0  24.94155  121.50381                      15.4  \n",
       "410                    9  24.97433  121.54310                      50.0  \n",
       "411                    7  24.97923  121.53986                      40.6  \n",
       "412                    5  24.96674  121.54067                      52.5  \n",
       "413                    9  24.97433  121.54310                      63.9  \n",
       "\n",
       "[414 rows x 8 columns]"
      ]
     },
     "execution_count": 8,
     "metadata": {},
     "output_type": "execute_result"
    }
   ],
   "source": [
    "house_df"
   ]
  },
  {
   "cell_type": "code",
   "execution_count": 9,
   "metadata": {},
   "outputs": [
    {
     "data": {
      "text/html": [
       "<div>\n",
       "<style scoped>\n",
       "    .dataframe tbody tr th:only-of-type {\n",
       "        vertical-align: middle;\n",
       "    }\n",
       "\n",
       "    .dataframe tbody tr th {\n",
       "        vertical-align: top;\n",
       "    }\n",
       "\n",
       "    .dataframe thead th {\n",
       "        text-align: right;\n",
       "    }\n",
       "</style>\n",
       "<table border=\"1\" class=\"dataframe\">\n",
       "  <thead>\n",
       "    <tr style=\"text-align: right;\">\n",
       "      <th></th>\n",
       "      <th>No</th>\n",
       "      <th>transaction_year</th>\n",
       "      <th>house_age</th>\n",
       "      <th>nearest_mrt_station</th>\n",
       "      <th>no_of_stores_nearby</th>\n",
       "      <th>latitude</th>\n",
       "      <th>longitude</th>\n",
       "      <th>house_price_of_unit_area</th>\n",
       "    </tr>\n",
       "  </thead>\n",
       "  <tbody>\n",
       "    <tr>\n",
       "      <th>count</th>\n",
       "      <td>414.000000</td>\n",
       "      <td>414.000000</td>\n",
       "      <td>414.000000</td>\n",
       "      <td>414.000000</td>\n",
       "      <td>414.000000</td>\n",
       "      <td>414.000000</td>\n",
       "      <td>414.000000</td>\n",
       "      <td>414.000000</td>\n",
       "    </tr>\n",
       "    <tr>\n",
       "      <th>mean</th>\n",
       "      <td>207.500000</td>\n",
       "      <td>2012.695652</td>\n",
       "      <td>17.292271</td>\n",
       "      <td>1083.885689</td>\n",
       "      <td>4.094203</td>\n",
       "      <td>24.969030</td>\n",
       "      <td>121.533361</td>\n",
       "      <td>37.980193</td>\n",
       "    </tr>\n",
       "    <tr>\n",
       "      <th>std</th>\n",
       "      <td>119.655756</td>\n",
       "      <td>0.460687</td>\n",
       "      <td>11.333769</td>\n",
       "      <td>1262.109595</td>\n",
       "      <td>2.945562</td>\n",
       "      <td>0.012410</td>\n",
       "      <td>0.015347</td>\n",
       "      <td>13.606488</td>\n",
       "    </tr>\n",
       "    <tr>\n",
       "      <th>min</th>\n",
       "      <td>1.000000</td>\n",
       "      <td>2012.000000</td>\n",
       "      <td>0.000000</td>\n",
       "      <td>23.382840</td>\n",
       "      <td>0.000000</td>\n",
       "      <td>24.932070</td>\n",
       "      <td>121.473530</td>\n",
       "      <td>7.600000</td>\n",
       "    </tr>\n",
       "    <tr>\n",
       "      <th>25%</th>\n",
       "      <td>104.250000</td>\n",
       "      <td>2012.000000</td>\n",
       "      <td>9.000000</td>\n",
       "      <td>289.324800</td>\n",
       "      <td>1.000000</td>\n",
       "      <td>24.963000</td>\n",
       "      <td>121.528085</td>\n",
       "      <td>27.700000</td>\n",
       "    </tr>\n",
       "    <tr>\n",
       "      <th>50%</th>\n",
       "      <td>207.500000</td>\n",
       "      <td>2013.000000</td>\n",
       "      <td>16.000000</td>\n",
       "      <td>492.231300</td>\n",
       "      <td>4.000000</td>\n",
       "      <td>24.971100</td>\n",
       "      <td>121.538630</td>\n",
       "      <td>38.450000</td>\n",
       "    </tr>\n",
       "    <tr>\n",
       "      <th>75%</th>\n",
       "      <td>310.750000</td>\n",
       "      <td>2013.000000</td>\n",
       "      <td>28.000000</td>\n",
       "      <td>1454.279000</td>\n",
       "      <td>6.000000</td>\n",
       "      <td>24.977455</td>\n",
       "      <td>121.543305</td>\n",
       "      <td>46.600000</td>\n",
       "    </tr>\n",
       "    <tr>\n",
       "      <th>max</th>\n",
       "      <td>414.000000</td>\n",
       "      <td>2013.000000</td>\n",
       "      <td>43.000000</td>\n",
       "      <td>6488.021000</td>\n",
       "      <td>10.000000</td>\n",
       "      <td>25.014590</td>\n",
       "      <td>121.566270</td>\n",
       "      <td>117.500000</td>\n",
       "    </tr>\n",
       "  </tbody>\n",
       "</table>\n",
       "</div>"
      ],
      "text/plain": [
       "               No  transaction_year   house_age  nearest_mrt_station  \\\n",
       "count  414.000000        414.000000  414.000000           414.000000   \n",
       "mean   207.500000       2012.695652   17.292271          1083.885689   \n",
       "std    119.655756          0.460687   11.333769          1262.109595   \n",
       "min      1.000000       2012.000000    0.000000            23.382840   \n",
       "25%    104.250000       2012.000000    9.000000           289.324800   \n",
       "50%    207.500000       2013.000000   16.000000           492.231300   \n",
       "75%    310.750000       2013.000000   28.000000          1454.279000   \n",
       "max    414.000000       2013.000000   43.000000          6488.021000   \n",
       "\n",
       "       no_of_stores_nearby    latitude   longitude  house_price_of_unit_area  \n",
       "count           414.000000  414.000000  414.000000                414.000000  \n",
       "mean              4.094203   24.969030  121.533361                 37.980193  \n",
       "std               2.945562    0.012410    0.015347                 13.606488  \n",
       "min               0.000000   24.932070  121.473530                  7.600000  \n",
       "25%               1.000000   24.963000  121.528085                 27.700000  \n",
       "50%               4.000000   24.971100  121.538630                 38.450000  \n",
       "75%               6.000000   24.977455  121.543305                 46.600000  \n",
       "max              10.000000   25.014590  121.566270                117.500000  "
      ]
     },
     "execution_count": 9,
     "metadata": {},
     "output_type": "execute_result"
    }
   ],
   "source": [
    "# All other data seems proper\n",
    "house_df.describe()"
   ]
  },
  {
   "cell_type": "markdown",
   "metadata": {},
   "source": [
    "## EDA Data Visualization\n",
    "### 1. Effect of house_age on price"
   ]
  },
  {
   "cell_type": "code",
   "execution_count": 10,
   "metadata": {},
   "outputs": [
    {
     "data": {
      "application/vnd.plotly.v1+json": {
       "config": {
        "plotlyServerURL": "https://plot.ly"
       },
       "data": [
        {
         "hovertemplate": "house_age=%{x}<br>house_price_of_unit_area=%{y}<extra></extra>",
         "legendgroup": "",
         "marker": {
          "color": "#636efa",
          "symbol": "circle"
         },
         "mode": "markers",
         "name": "",
         "orientation": "v",
         "showlegend": false,
         "type": "scatter",
         "x": [
          32,
          19,
          13,
          13,
          5,
          7,
          34,
          20,
          31,
          17,
          34,
          6,
          13,
          20,
          13,
          35,
          0,
          17,
          16,
          1,
          4,
          10,
          14,
          10,
          39,
          29,
          3,
          10,
          19,
          7,
          25,
          29,
          37,
          16,
          15,
          13,
          14,
          12,
          3,
          16,
          13,
          16,
          36,
          34,
          2,
          36,
          21,
          35,
          24,
          29,
          21,
          31,
          32,
          13,
          16,
          31,
          33,
          3,
          30,
          13,
          11,
          5,
          17,
          2,
          17,
          40,
          1,
          8,
          30,
          12,
          6,
          35,
          32,
          13,
          6,
          12,
          35,
          20,
          38,
          18,
          11,
          30,
          13,
          25,
          15,
          0,
          1,
          16,
          8,
          23,
          0,
          9,
          20,
          31,
          40,
          8,
          6,
          28,
          16,
          6,
          17,
          12,
          1,
          0,
          32,
          0,
          17,
          12,
          31,
          4,
          8,
          33,
          9,
          14,
          30,
          20,
          30,
          13,
          25,
          16,
          13,
          13,
          31,
          0,
          9,
          1,
          38,
          3,
          41,
          38,
          29,
          4,
          26,
          18,
          33,
          18,
          11,
          13,
          10,
          12,
          16,
          5,
          19,
          13,
          11,
          2,
          0,
          3,
          16,
          34,
          35,
          4,
          12,
          6,
          16,
          13,
          30,
          16,
          11,
          15,
          3,
          19,
          16,
          8,
          0,
          13,
          0,
          28,
          27,
          8,
          24,
          3,
          6,
          41,
          4,
          30,
          13,
          33,
          13,
          14,
          26,
          11,
          13,
          17,
          14,
          31,
          20,
          8,
          34,
          16,
          35,
          13,
          43,
          9,
          15,
          15,
          22,
          34,
          34,
          18,
          17,
          13,
          38,
          15,
          18,
          12,
          22,
          38,
          11,
          34,
          5,
          0,
          17,
          6,
          18,
          19,
          37,
          28,
          13,
          29,
          37,
          9,
          30,
          9,
          34,
          1,
          16,
          32,
          11,
          31,
          4,
          16,
          27,
          39,
          8,
          12,
          3,
          13,
          12,
          18,
          11,
          13,
          2,
          32,
          4,
          7,
          16,
          21,
          19,
          18,
          39,
          31,
          5,
          30,
          1,
          31,
          14,
          17,
          0,
          17,
          17,
          16,
          15,
          3,
          32,
          15,
          17,
          34,
          17,
          17,
          10,
          17,
          13,
          13,
          27,
          1,
          19,
          21,
          0,
          2,
          2,
          4,
          2,
          33,
          15,
          30,
          5,
          19,
          16,
          13,
          37,
          3,
          17,
          12,
          26,
          18,
          12,
          34,
          16,
          33,
          2,
          38,
          16,
          38,
          20,
          16,
          14,
          10,
          16,
          30,
          16,
          21,
          35,
          8,
          3,
          15,
          13,
          15,
          7,
          34,
          13,
          16,
          12,
          28,
          12,
          36,
          4,
          3,
          15,
          13,
          32,
          25,
          39,
          7,
          30,
          27,
          5,
          31,
          31,
          1,
          33,
          13,
          5,
          33,
          34,
          0,
          13,
          17,
          4,
          7,
          13,
          4,
          18,
          4,
          12,
          3,
          10,
          0,
          1,
          5,
          32,
          41,
          17,
          32,
          35,
          17,
          14,
          15,
          18,
          20,
          15,
          4,
          33,
          0,
          5,
          21,
          14,
          3,
          37,
          0,
          14,
          8,
          16,
          29,
          16,
          18,
          0,
          16,
          10,
          40,
          32,
          6,
          42,
          16,
          32,
          21,
          37,
          13,
          14,
          12,
          26,
          7,
          12,
          30,
          16,
          23,
          1,
          5,
          18,
          13,
          5,
          18,
          8,
          6
         ],
         "xaxis": "x",
         "y": [
          37.9,
          42.2,
          47.3,
          54.8,
          43.1,
          32.1,
          40.3,
          46.7,
          18.8,
          22.1,
          41.4,
          58.1,
          39.3,
          23.8,
          34.3,
          50.5,
          70.1,
          37.4,
          42.3,
          47.7,
          29.3,
          51.6,
          24.6,
          47.9,
          38.8,
          27,
          56.2,
          33.6,
          47,
          57.1,
          22.1,
          25,
          34.2,
          49.3,
          55.1,
          27.3,
          22.9,
          25.3,
          47.7,
          46.2,
          15.9,
          18.2,
          34.7,
          34.1,
          53.9,
          38.3,
          42,
          61.5,
          13.4,
          13.2,
          44.2,
          20.7,
          27,
          38.9,
          51.7,
          13.7,
          41.9,
          53.5,
          22.6,
          42.4,
          21.3,
          63.2,
          27.7,
          55,
          25.3,
          44.3,
          50.7,
          56.8,
          36.2,
          42,
          59,
          40.8,
          36.3,
          20,
          54.4,
          29.5,
          36.8,
          25.6,
          29.8,
          26.5,
          40.3,
          36.8,
          48.1,
          17.7,
          43.7,
          50.8,
          27,
          18.3,
          48,
          25.3,
          45.4,
          43.2,
          21.8,
          16.1,
          41,
          51.8,
          59.5,
          34.6,
          51,
          62.2,
          38.2,
          32.9,
          54.4,
          45.7,
          30.5,
          71,
          47.1,
          26.6,
          34.1,
          28.4,
          51.6,
          39.4,
          23.1,
          7.6,
          53.3,
          46.4,
          12.2,
          13,
          30.6,
          59.6,
          31.3,
          48,
          32.5,
          45.5,
          57.4,
          48.6,
          62.9,
          55,
          60.7,
          41,
          37.5,
          30.7,
          37.5,
          39.5,
          42.2,
          20.8,
          46.8,
          47.4,
          43.5,
          42.5,
          51.4,
          28.9,
          37.5,
          40.1,
          28.4,
          45.5,
          52.2,
          43.2,
          45.1,
          39.7,
          48.5,
          44.7,
          28.9,
          40.9,
          20.7,
          15.6,
          18.3,
          35.6,
          39.4,
          37.4,
          57.8,
          39.6,
          11.6,
          55.5,
          55.2,
          30.6,
          73.6,
          43.4,
          37.4,
          23.5,
          14.4,
          58.8,
          58.1,
          35.1,
          45.2,
          36.5,
          19.2,
          42,
          36.7,
          42.6,
          15.5,
          55.9,
          23.6,
          18.8,
          21.8,
          21.5,
          25.7,
          22,
          44.3,
          20.5,
          42.3,
          37.8,
          42.7,
          49.3,
          29.3,
          34.6,
          36.6,
          48.2,
          39.1,
          31.6,
          25.5,
          45.9,
          31.5,
          46.1,
          26.6,
          21.4,
          44,
          34.2,
          26.2,
          40.9,
          52.2,
          43.5,
          31.1,
          58,
          20.9,
          48.1,
          39.7,
          40.8,
          43.8,
          40.2,
          78.3,
          38.5,
          48.5,
          42.3,
          46,
          49,
          12.8,
          40.2,
          46.6,
          19,
          33.4,
          14.7,
          17.4,
          32.4,
          23.9,
          39.3,
          61.9,
          39,
          40.6,
          29.7,
          28.8,
          41.4,
          33.4,
          48.2,
          21.7,
          40.8,
          40.6,
          23.1,
          22.3,
          15,
          30,
          13.8,
          52.7,
          25.9,
          51.8,
          17.4,
          26.5,
          43.9,
          63.3,
          28.8,
          30.7,
          24.4,
          53,
          31.7,
          40.6,
          38.1,
          23.7,
          41.1,
          40.1,
          23,
          117.5,
          26.5,
          40.5,
          29.3,
          41,
          49.7,
          34,
          27.7,
          44,
          31.1,
          45.4,
          44.8,
          25.6,
          23.5,
          34.4,
          55.3,
          56.3,
          32.9,
          51,
          44.5,
          37,
          54.4,
          24.5,
          42.5,
          38.1,
          21.8,
          34.1,
          28.5,
          16.7,
          46.1,
          36.9,
          35.7,
          23.2,
          38.4,
          29.4,
          55,
          50.2,
          24.7,
          53,
          19.1,
          24.7,
          42.2,
          78,
          42.8,
          41.6,
          27.3,
          42,
          37.5,
          49.8,
          26.9,
          18.6,
          37.7,
          33.1,
          42.5,
          31.3,
          38.1,
          62.1,
          36.7,
          23.6,
          19.2,
          12.8,
          15.6,
          39.6,
          38.4,
          22.8,
          36.5,
          35.6,
          30.9,
          36.3,
          50.4,
          42.9,
          37,
          53.5,
          46.6,
          41.2,
          37.9,
          30.8,
          11.2,
          53.7,
          47,
          42.3,
          28.6,
          25.7,
          31.3,
          30.1,
          60.7,
          45.3,
          44.9,
          45.1,
          24.7,
          47.1,
          63.3,
          40,
          48,
          33.1,
          29.5,
          24.8,
          20.9,
          43.1,
          22.8,
          42.1,
          51.7,
          41.5,
          52.2,
          49.5,
          23.8,
          30.5,
          56.8,
          37.4,
          69.7,
          53.3,
          47.3,
          29.3,
          40.3,
          12.9,
          46.6,
          55.3,
          25.6,
          27.3,
          67.7,
          38.6,
          31.3,
          35.3,
          40.3,
          24.7,
          42.5,
          31.9,
          32.2,
          23,
          37.3,
          35.5,
          27.7,
          28.5,
          39.7,
          41.2,
          37.2,
          40.5,
          22.3,
          28.1,
          15.4,
          50,
          40.6,
          52.5,
          63.9
         ],
         "yaxis": "y"
        }
       ],
       "layout": {
        "legend": {
         "tracegroupgap": 0
        },
        "template": {
         "data": {
          "bar": [
           {
            "error_x": {
             "color": "#2a3f5f"
            },
            "error_y": {
             "color": "#2a3f5f"
            },
            "marker": {
             "line": {
              "color": "#E5ECF6",
              "width": 0.5
             },
             "pattern": {
              "fillmode": "overlay",
              "size": 10,
              "solidity": 0.2
             }
            },
            "type": "bar"
           }
          ],
          "barpolar": [
           {
            "marker": {
             "line": {
              "color": "#E5ECF6",
              "width": 0.5
             },
             "pattern": {
              "fillmode": "overlay",
              "size": 10,
              "solidity": 0.2
             }
            },
            "type": "barpolar"
           }
          ],
          "carpet": [
           {
            "aaxis": {
             "endlinecolor": "#2a3f5f",
             "gridcolor": "white",
             "linecolor": "white",
             "minorgridcolor": "white",
             "startlinecolor": "#2a3f5f"
            },
            "baxis": {
             "endlinecolor": "#2a3f5f",
             "gridcolor": "white",
             "linecolor": "white",
             "minorgridcolor": "white",
             "startlinecolor": "#2a3f5f"
            },
            "type": "carpet"
           }
          ],
          "choropleth": [
           {
            "colorbar": {
             "outlinewidth": 0,
             "ticks": ""
            },
            "type": "choropleth"
           }
          ],
          "contour": [
           {
            "colorbar": {
             "outlinewidth": 0,
             "ticks": ""
            },
            "colorscale": [
             [
              0,
              "#0d0887"
             ],
             [
              0.1111111111111111,
              "#46039f"
             ],
             [
              0.2222222222222222,
              "#7201a8"
             ],
             [
              0.3333333333333333,
              "#9c179e"
             ],
             [
              0.4444444444444444,
              "#bd3786"
             ],
             [
              0.5555555555555556,
              "#d8576b"
             ],
             [
              0.6666666666666666,
              "#ed7953"
             ],
             [
              0.7777777777777778,
              "#fb9f3a"
             ],
             [
              0.8888888888888888,
              "#fdca26"
             ],
             [
              1,
              "#f0f921"
             ]
            ],
            "type": "contour"
           }
          ],
          "contourcarpet": [
           {
            "colorbar": {
             "outlinewidth": 0,
             "ticks": ""
            },
            "type": "contourcarpet"
           }
          ],
          "heatmap": [
           {
            "colorbar": {
             "outlinewidth": 0,
             "ticks": ""
            },
            "colorscale": [
             [
              0,
              "#0d0887"
             ],
             [
              0.1111111111111111,
              "#46039f"
             ],
             [
              0.2222222222222222,
              "#7201a8"
             ],
             [
              0.3333333333333333,
              "#9c179e"
             ],
             [
              0.4444444444444444,
              "#bd3786"
             ],
             [
              0.5555555555555556,
              "#d8576b"
             ],
             [
              0.6666666666666666,
              "#ed7953"
             ],
             [
              0.7777777777777778,
              "#fb9f3a"
             ],
             [
              0.8888888888888888,
              "#fdca26"
             ],
             [
              1,
              "#f0f921"
             ]
            ],
            "type": "heatmap"
           }
          ],
          "heatmapgl": [
           {
            "colorbar": {
             "outlinewidth": 0,
             "ticks": ""
            },
            "colorscale": [
             [
              0,
              "#0d0887"
             ],
             [
              0.1111111111111111,
              "#46039f"
             ],
             [
              0.2222222222222222,
              "#7201a8"
             ],
             [
              0.3333333333333333,
              "#9c179e"
             ],
             [
              0.4444444444444444,
              "#bd3786"
             ],
             [
              0.5555555555555556,
              "#d8576b"
             ],
             [
              0.6666666666666666,
              "#ed7953"
             ],
             [
              0.7777777777777778,
              "#fb9f3a"
             ],
             [
              0.8888888888888888,
              "#fdca26"
             ],
             [
              1,
              "#f0f921"
             ]
            ],
            "type": "heatmapgl"
           }
          ],
          "histogram": [
           {
            "marker": {
             "pattern": {
              "fillmode": "overlay",
              "size": 10,
              "solidity": 0.2
             }
            },
            "type": "histogram"
           }
          ],
          "histogram2d": [
           {
            "colorbar": {
             "outlinewidth": 0,
             "ticks": ""
            },
            "colorscale": [
             [
              0,
              "#0d0887"
             ],
             [
              0.1111111111111111,
              "#46039f"
             ],
             [
              0.2222222222222222,
              "#7201a8"
             ],
             [
              0.3333333333333333,
              "#9c179e"
             ],
             [
              0.4444444444444444,
              "#bd3786"
             ],
             [
              0.5555555555555556,
              "#d8576b"
             ],
             [
              0.6666666666666666,
              "#ed7953"
             ],
             [
              0.7777777777777778,
              "#fb9f3a"
             ],
             [
              0.8888888888888888,
              "#fdca26"
             ],
             [
              1,
              "#f0f921"
             ]
            ],
            "type": "histogram2d"
           }
          ],
          "histogram2dcontour": [
           {
            "colorbar": {
             "outlinewidth": 0,
             "ticks": ""
            },
            "colorscale": [
             [
              0,
              "#0d0887"
             ],
             [
              0.1111111111111111,
              "#46039f"
             ],
             [
              0.2222222222222222,
              "#7201a8"
             ],
             [
              0.3333333333333333,
              "#9c179e"
             ],
             [
              0.4444444444444444,
              "#bd3786"
             ],
             [
              0.5555555555555556,
              "#d8576b"
             ],
             [
              0.6666666666666666,
              "#ed7953"
             ],
             [
              0.7777777777777778,
              "#fb9f3a"
             ],
             [
              0.8888888888888888,
              "#fdca26"
             ],
             [
              1,
              "#f0f921"
             ]
            ],
            "type": "histogram2dcontour"
           }
          ],
          "mesh3d": [
           {
            "colorbar": {
             "outlinewidth": 0,
             "ticks": ""
            },
            "type": "mesh3d"
           }
          ],
          "parcoords": [
           {
            "line": {
             "colorbar": {
              "outlinewidth": 0,
              "ticks": ""
             }
            },
            "type": "parcoords"
           }
          ],
          "pie": [
           {
            "automargin": true,
            "type": "pie"
           }
          ],
          "scatter": [
           {
            "fillpattern": {
             "fillmode": "overlay",
             "size": 10,
             "solidity": 0.2
            },
            "type": "scatter"
           }
          ],
          "scatter3d": [
           {
            "line": {
             "colorbar": {
              "outlinewidth": 0,
              "ticks": ""
             }
            },
            "marker": {
             "colorbar": {
              "outlinewidth": 0,
              "ticks": ""
             }
            },
            "type": "scatter3d"
           }
          ],
          "scattercarpet": [
           {
            "marker": {
             "colorbar": {
              "outlinewidth": 0,
              "ticks": ""
             }
            },
            "type": "scattercarpet"
           }
          ],
          "scattergeo": [
           {
            "marker": {
             "colorbar": {
              "outlinewidth": 0,
              "ticks": ""
             }
            },
            "type": "scattergeo"
           }
          ],
          "scattergl": [
           {
            "marker": {
             "colorbar": {
              "outlinewidth": 0,
              "ticks": ""
             }
            },
            "type": "scattergl"
           }
          ],
          "scattermapbox": [
           {
            "marker": {
             "colorbar": {
              "outlinewidth": 0,
              "ticks": ""
             }
            },
            "type": "scattermapbox"
           }
          ],
          "scatterpolar": [
           {
            "marker": {
             "colorbar": {
              "outlinewidth": 0,
              "ticks": ""
             }
            },
            "type": "scatterpolar"
           }
          ],
          "scatterpolargl": [
           {
            "marker": {
             "colorbar": {
              "outlinewidth": 0,
              "ticks": ""
             }
            },
            "type": "scatterpolargl"
           }
          ],
          "scatterternary": [
           {
            "marker": {
             "colorbar": {
              "outlinewidth": 0,
              "ticks": ""
             }
            },
            "type": "scatterternary"
           }
          ],
          "surface": [
           {
            "colorbar": {
             "outlinewidth": 0,
             "ticks": ""
            },
            "colorscale": [
             [
              0,
              "#0d0887"
             ],
             [
              0.1111111111111111,
              "#46039f"
             ],
             [
              0.2222222222222222,
              "#7201a8"
             ],
             [
              0.3333333333333333,
              "#9c179e"
             ],
             [
              0.4444444444444444,
              "#bd3786"
             ],
             [
              0.5555555555555556,
              "#d8576b"
             ],
             [
              0.6666666666666666,
              "#ed7953"
             ],
             [
              0.7777777777777778,
              "#fb9f3a"
             ],
             [
              0.8888888888888888,
              "#fdca26"
             ],
             [
              1,
              "#f0f921"
             ]
            ],
            "type": "surface"
           }
          ],
          "table": [
           {
            "cells": {
             "fill": {
              "color": "#EBF0F8"
             },
             "line": {
              "color": "white"
             }
            },
            "header": {
             "fill": {
              "color": "#C8D4E3"
             },
             "line": {
              "color": "white"
             }
            },
            "type": "table"
           }
          ]
         },
         "layout": {
          "annotationdefaults": {
           "arrowcolor": "#2a3f5f",
           "arrowhead": 0,
           "arrowwidth": 1
          },
          "autotypenumbers": "strict",
          "coloraxis": {
           "colorbar": {
            "outlinewidth": 0,
            "ticks": ""
           }
          },
          "colorscale": {
           "diverging": [
            [
             0,
             "#8e0152"
            ],
            [
             0.1,
             "#c51b7d"
            ],
            [
             0.2,
             "#de77ae"
            ],
            [
             0.3,
             "#f1b6da"
            ],
            [
             0.4,
             "#fde0ef"
            ],
            [
             0.5,
             "#f7f7f7"
            ],
            [
             0.6,
             "#e6f5d0"
            ],
            [
             0.7,
             "#b8e186"
            ],
            [
             0.8,
             "#7fbc41"
            ],
            [
             0.9,
             "#4d9221"
            ],
            [
             1,
             "#276419"
            ]
           ],
           "sequential": [
            [
             0,
             "#0d0887"
            ],
            [
             0.1111111111111111,
             "#46039f"
            ],
            [
             0.2222222222222222,
             "#7201a8"
            ],
            [
             0.3333333333333333,
             "#9c179e"
            ],
            [
             0.4444444444444444,
             "#bd3786"
            ],
            [
             0.5555555555555556,
             "#d8576b"
            ],
            [
             0.6666666666666666,
             "#ed7953"
            ],
            [
             0.7777777777777778,
             "#fb9f3a"
            ],
            [
             0.8888888888888888,
             "#fdca26"
            ],
            [
             1,
             "#f0f921"
            ]
           ],
           "sequentialminus": [
            [
             0,
             "#0d0887"
            ],
            [
             0.1111111111111111,
             "#46039f"
            ],
            [
             0.2222222222222222,
             "#7201a8"
            ],
            [
             0.3333333333333333,
             "#9c179e"
            ],
            [
             0.4444444444444444,
             "#bd3786"
            ],
            [
             0.5555555555555556,
             "#d8576b"
            ],
            [
             0.6666666666666666,
             "#ed7953"
            ],
            [
             0.7777777777777778,
             "#fb9f3a"
            ],
            [
             0.8888888888888888,
             "#fdca26"
            ],
            [
             1,
             "#f0f921"
            ]
           ]
          },
          "colorway": [
           "#636efa",
           "#EF553B",
           "#00cc96",
           "#ab63fa",
           "#FFA15A",
           "#19d3f3",
           "#FF6692",
           "#B6E880",
           "#FF97FF",
           "#FECB52"
          ],
          "font": {
           "color": "#2a3f5f"
          },
          "geo": {
           "bgcolor": "white",
           "lakecolor": "white",
           "landcolor": "#E5ECF6",
           "showlakes": true,
           "showland": true,
           "subunitcolor": "white"
          },
          "hoverlabel": {
           "align": "left"
          },
          "hovermode": "closest",
          "mapbox": {
           "style": "light"
          },
          "paper_bgcolor": "white",
          "plot_bgcolor": "#E5ECF6",
          "polar": {
           "angularaxis": {
            "gridcolor": "white",
            "linecolor": "white",
            "ticks": ""
           },
           "bgcolor": "#E5ECF6",
           "radialaxis": {
            "gridcolor": "white",
            "linecolor": "white",
            "ticks": ""
           }
          },
          "scene": {
           "xaxis": {
            "backgroundcolor": "#E5ECF6",
            "gridcolor": "white",
            "gridwidth": 2,
            "linecolor": "white",
            "showbackground": true,
            "ticks": "",
            "zerolinecolor": "white"
           },
           "yaxis": {
            "backgroundcolor": "#E5ECF6",
            "gridcolor": "white",
            "gridwidth": 2,
            "linecolor": "white",
            "showbackground": true,
            "ticks": "",
            "zerolinecolor": "white"
           },
           "zaxis": {
            "backgroundcolor": "#E5ECF6",
            "gridcolor": "white",
            "gridwidth": 2,
            "linecolor": "white",
            "showbackground": true,
            "ticks": "",
            "zerolinecolor": "white"
           }
          },
          "shapedefaults": {
           "line": {
            "color": "#2a3f5f"
           }
          },
          "ternary": {
           "aaxis": {
            "gridcolor": "white",
            "linecolor": "white",
            "ticks": ""
           },
           "baxis": {
            "gridcolor": "white",
            "linecolor": "white",
            "ticks": ""
           },
           "bgcolor": "#E5ECF6",
           "caxis": {
            "gridcolor": "white",
            "linecolor": "white",
            "ticks": ""
           }
          },
          "title": {
           "x": 0.05
          },
          "xaxis": {
           "automargin": true,
           "gridcolor": "white",
           "linecolor": "white",
           "ticks": "",
           "title": {
            "standoff": 15
           },
           "zerolinecolor": "white",
           "zerolinewidth": 2
          },
          "yaxis": {
           "automargin": true,
           "gridcolor": "white",
           "linecolor": "white",
           "ticks": "",
           "title": {
            "standoff": 15
           },
           "zerolinecolor": "white",
           "zerolinewidth": 2
          }
         }
        },
        "title": {
         "text": "Effect of house_age on price"
        },
        "xaxis": {
         "anchor": "y",
         "domain": [
          0,
          1
         ],
         "title": {
          "text": "house_age"
         }
        },
        "yaxis": {
         "anchor": "x",
         "domain": [
          0,
          1
         ],
         "title": {
          "text": "house_price_of_unit_area"
         }
        }
       }
      }
     },
     "metadata": {},
     "output_type": "display_data"
    }
   ],
   "source": [
    "px.scatter(house_df, x = 'house_age', y = 'house_price_of_unit_area', title = 'Effect of house_age on price')"
   ]
  },
  {
   "cell_type": "markdown",
   "metadata": {},
   "source": [
    "#### Conclusion : clearly seeing that house_age doesn't have any major effect on price"
   ]
  },
  {
   "cell_type": "markdown",
   "metadata": {},
   "source": [
    "### 2. Effect of nearest_mrt_station on price"
   ]
  },
  {
   "cell_type": "code",
   "execution_count": 11,
   "metadata": {},
   "outputs": [
    {
     "data": {
      "application/vnd.plotly.v1+json": {
       "config": {
        "plotlyServerURL": "https://plot.ly"
       },
       "data": [
        {
         "hovertemplate": "nearest_mrt_station=%{x}<br>house_price_of_unit_area=%{y}<extra></extra>",
         "legendgroup": "",
         "marker": {
          "color": "#636efa",
          "symbol": "circle"
         },
         "mode": "markers",
         "name": "",
         "orientation": "v",
         "showlegend": false,
         "type": "scatter",
         "x": [
          84.87882,
          306.5947,
          561.9845,
          561.9845,
          390.5684,
          2175.03,
          623.4731,
          287.6025,
          5512.038,
          1783.18,
          405.2134,
          90.45606,
          492.2313,
          2469.645,
          1164.838,
          579.2083,
          292.9978,
          350.8515,
          368.1363,
          23.38284,
          2275.877,
          279.1726,
          1360.139,
          279.1726,
          480.6977,
          1487.868,
          383.8624,
          276.449,
          557.478,
          451.2438,
          4519.69,
          769.4034,
          488.5727,
          323.655,
          205.367,
          4079.418,
          1935.009,
          1360.139,
          577.9615,
          289.3248,
          4082.015,
          4066.587,
          519.4617,
          512.7871,
          533.4762,
          488.8193,
          463.9623,
          640.7391,
          4605.749,
          4510.359,
          512.5487,
          1758.406,
          1438.579,
          492.2313,
          289.3248,
          1160.632,
          371.2495,
          56.47425,
          4510.359,
          336.0532,
          1931.207,
          259.6607,
          2175.877,
          533.4762,
          995.7554,
          123.7429,
          193.5845,
          104.8101,
          464.223,
          561.9845,
          90.45606,
          640.7391,
          424.5442,
          4082.015,
          379.5575,
          1360.139,
          616.4004,
          2185.128,
          552.4371,
          1414.837,
          533.4762,
          377.7956,
          150.9347,
          2707.392,
          383.2805,
          338.9679,
          1455.798,
          4066.587,
          1406.43,
          3947.945,
          274.0144,
          1402.016,
          2469.645,
          1146.329,
          167.5989,
          104.8101,
          90.45606,
          617.4424,
          289.3248,
          90.45606,
          964.7496,
          170.1289,
          193.5845,
          208.3905,
          392.4459,
          292.9978,
          189.5181,
          1360.139,
          592.5006,
          2147.376,
          104.8101,
          196.6172,
          2102.427,
          393.2606,
          143.8383,
          737.9161,
          6396.283,
          4197.349,
          1583.722,
          289.3248,
          492.2313,
          492.2313,
          414.9476,
          185.4296,
          279.1726,
          193.5845,
          804.6897,
          383.8624,
          124.9912,
          216.8329,
          535.527,
          2147.376,
          482.7581,
          373.3937,
          186.9686,
          1009.235,
          390.5684,
          319.0708,
          942.4664,
          492.2313,
          289.3248,
          1559.827,
          640.6071,
          492.2313,
          1360.139,
          451.2438,
          185.4296,
          489.8821,
          3780.59,
          179.4538,
          170.7311,
          387.7721,
          1360.139,
          376.1709,
          4066.587,
          4082.015,
          1264.73,
          815.9314,
          390.5684,
          815.9314,
          49.66105,
          616.4004,
          4066.587,
          104.8101,
          185.4296,
          1236.564,
          292.9978,
          330.0854,
          515.1122,
          1962.628,
          4527.687,
          383.8624,
          90.45606,
          401.8807,
          432.0385,
          472.1745,
          4573.779,
          181.0766,
          1144.436,
          438.8513,
          4449.27,
          201.8939,
          2147.376,
          4082.015,
          2615.465,
          1447.286,
          2185.128,
          3078.176,
          190.0392,
          4066.587,
          616.5735,
          750.0704,
          57.58945,
          421.479,
          3771.895,
          461.1016,
          707.9067,
          126.7286,
          157.6052,
          451.6419,
          995.7554,
          561.9845,
          642.6985,
          289.3248,
          1414.837,
          1449.722,
          379.5575,
          665.0636,
          1360.139,
          175.6294,
          390.5684,
          274.0144,
          1805.665,
          90.45606,
          1783.18,
          383.7129,
          590.9292,
          372.6242,
          492.2313,
          529.7771,
          186.5101,
          1402.016,
          431.1114,
          1402.016,
          324.9419,
          193.5845,
          4082.015,
          265.0609,
          3171.329,
          1156.412,
          2147.376,
          4074.736,
          4412.765,
          333.3679,
          2216.612,
          250.631,
          373.8389,
          732.8528,
          732.8528,
          837.7233,
          1712.632,
          250.631,
          2077.39,
          204.1705,
          1559.827,
          639.6198,
          389.8219,
          1055.067,
          1009.235,
          6306.153,
          424.7132,
          1159.454,
          90.45606,
          1735.595,
          329.9747,
          5512.038,
          339.2289,
          444.1334,
          292.9978,
          837.7233,
          1485.097,
          2288.011,
          289.3248,
          2147.376,
          493.657,
          815.9314,
          1783.18,
          482.7581,
          390.5684,
          837.7233,
          252.5822,
          451.6419,
          492.2313,
          170.1289,
          394.0173,
          23.38284,
          461.1016,
          2185.128,
          208.3905,
          1554.25,
          184.3302,
          387.7721,
          1455.798,
          1978.671,
          383.2805,
          718.2937,
          90.45606,
          461.1016,
          323.6912,
          289.3248,
          490.3446,
          56.47425,
          395.6747,
          383.2805,
          335.5273,
          2179.59,
          1144.436,
          567.0349,
          4082.015,
          121.7262,
          156.2442,
          461.7848,
          2288.011,
          439.7105,
          1626.083,
          289.3248,
          169.9803,
          3079.89,
          289.3248,
          1264.73,
          1643.499,
          537.7971,
          318.5292,
          104.8101,
          577.9615,
          1756.411,
          250.631,
          752.7669,
          379.5575,
          272.6783,
          4197.349,
          964.7496,
          187.4823,
          197.1338,
          1712.632,
          488.8193,
          56.47425,
          757.3377,
          1497.713,
          4197.349,
          1156.777,
          4519.69,
          617.7134,
          104.8101,
          1013.341,
          337.6016,
          1867.233,
          600.8604,
          258.186,
          329.9747,
          270.8895,
          750.0704,
          90.45606,
          563.2854,
          3085.17,
          185.4296,
          1712.632,
          6488.021,
          259.6607,
          104.8101,
          492.2313,
          2180.245,
          2674.961,
          2147.376,
          1360.139,
          383.8624,
          211.4473,
          338.9679,
          193.5845,
          2408.993,
          87.30222,
          281.205,
          967.4,
          109.9455,
          614.1394,
          2261.432,
          1801.544,
          1828.319,
          350.8515,
          2185.128,
          289.3248,
          312.8963,
          157.6052,
          274.0144,
          390.5684,
          1157.988,
          1717.193,
          49.66105,
          587.8877,
          292.9978,
          289.3248,
          132.5469,
          3529.564,
          506.1144,
          4066.587,
          82.88643,
          185.4296,
          2103.555,
          2251.938,
          122.3619,
          377.8302,
          1939.749,
          443.802,
          967.4,
          4136.271,
          512.5487,
          918.6357,
          1164.838,
          1717.193,
          170.1289,
          482.7581,
          2175.03,
          187.4823,
          161.942,
          289.3248,
          130.9945,
          372.1386,
          2408.993,
          2175.744,
          4082.015,
          90.45606,
          390.9696,
          104.8101,
          90.45606
         ],
         "xaxis": "x",
         "y": [
          37.9,
          42.2,
          47.3,
          54.8,
          43.1,
          32.1,
          40.3,
          46.7,
          18.8,
          22.1,
          41.4,
          58.1,
          39.3,
          23.8,
          34.3,
          50.5,
          70.1,
          37.4,
          42.3,
          47.7,
          29.3,
          51.6,
          24.6,
          47.9,
          38.8,
          27,
          56.2,
          33.6,
          47,
          57.1,
          22.1,
          25,
          34.2,
          49.3,
          55.1,
          27.3,
          22.9,
          25.3,
          47.7,
          46.2,
          15.9,
          18.2,
          34.7,
          34.1,
          53.9,
          38.3,
          42,
          61.5,
          13.4,
          13.2,
          44.2,
          20.7,
          27,
          38.9,
          51.7,
          13.7,
          41.9,
          53.5,
          22.6,
          42.4,
          21.3,
          63.2,
          27.7,
          55,
          25.3,
          44.3,
          50.7,
          56.8,
          36.2,
          42,
          59,
          40.8,
          36.3,
          20,
          54.4,
          29.5,
          36.8,
          25.6,
          29.8,
          26.5,
          40.3,
          36.8,
          48.1,
          17.7,
          43.7,
          50.8,
          27,
          18.3,
          48,
          25.3,
          45.4,
          43.2,
          21.8,
          16.1,
          41,
          51.8,
          59.5,
          34.6,
          51,
          62.2,
          38.2,
          32.9,
          54.4,
          45.7,
          30.5,
          71,
          47.1,
          26.6,
          34.1,
          28.4,
          51.6,
          39.4,
          23.1,
          7.6,
          53.3,
          46.4,
          12.2,
          13,
          30.6,
          59.6,
          31.3,
          48,
          32.5,
          45.5,
          57.4,
          48.6,
          62.9,
          55,
          60.7,
          41,
          37.5,
          30.7,
          37.5,
          39.5,
          42.2,
          20.8,
          46.8,
          47.4,
          43.5,
          42.5,
          51.4,
          28.9,
          37.5,
          40.1,
          28.4,
          45.5,
          52.2,
          43.2,
          45.1,
          39.7,
          48.5,
          44.7,
          28.9,
          40.9,
          20.7,
          15.6,
          18.3,
          35.6,
          39.4,
          37.4,
          57.8,
          39.6,
          11.6,
          55.5,
          55.2,
          30.6,
          73.6,
          43.4,
          37.4,
          23.5,
          14.4,
          58.8,
          58.1,
          35.1,
          45.2,
          36.5,
          19.2,
          42,
          36.7,
          42.6,
          15.5,
          55.9,
          23.6,
          18.8,
          21.8,
          21.5,
          25.7,
          22,
          44.3,
          20.5,
          42.3,
          37.8,
          42.7,
          49.3,
          29.3,
          34.6,
          36.6,
          48.2,
          39.1,
          31.6,
          25.5,
          45.9,
          31.5,
          46.1,
          26.6,
          21.4,
          44,
          34.2,
          26.2,
          40.9,
          52.2,
          43.5,
          31.1,
          58,
          20.9,
          48.1,
          39.7,
          40.8,
          43.8,
          40.2,
          78.3,
          38.5,
          48.5,
          42.3,
          46,
          49,
          12.8,
          40.2,
          46.6,
          19,
          33.4,
          14.7,
          17.4,
          32.4,
          23.9,
          39.3,
          61.9,
          39,
          40.6,
          29.7,
          28.8,
          41.4,
          33.4,
          48.2,
          21.7,
          40.8,
          40.6,
          23.1,
          22.3,
          15,
          30,
          13.8,
          52.7,
          25.9,
          51.8,
          17.4,
          26.5,
          43.9,
          63.3,
          28.8,
          30.7,
          24.4,
          53,
          31.7,
          40.6,
          38.1,
          23.7,
          41.1,
          40.1,
          23,
          117.5,
          26.5,
          40.5,
          29.3,
          41,
          49.7,
          34,
          27.7,
          44,
          31.1,
          45.4,
          44.8,
          25.6,
          23.5,
          34.4,
          55.3,
          56.3,
          32.9,
          51,
          44.5,
          37,
          54.4,
          24.5,
          42.5,
          38.1,
          21.8,
          34.1,
          28.5,
          16.7,
          46.1,
          36.9,
          35.7,
          23.2,
          38.4,
          29.4,
          55,
          50.2,
          24.7,
          53,
          19.1,
          24.7,
          42.2,
          78,
          42.8,
          41.6,
          27.3,
          42,
          37.5,
          49.8,
          26.9,
          18.6,
          37.7,
          33.1,
          42.5,
          31.3,
          38.1,
          62.1,
          36.7,
          23.6,
          19.2,
          12.8,
          15.6,
          39.6,
          38.4,
          22.8,
          36.5,
          35.6,
          30.9,
          36.3,
          50.4,
          42.9,
          37,
          53.5,
          46.6,
          41.2,
          37.9,
          30.8,
          11.2,
          53.7,
          47,
          42.3,
          28.6,
          25.7,
          31.3,
          30.1,
          60.7,
          45.3,
          44.9,
          45.1,
          24.7,
          47.1,
          63.3,
          40,
          48,
          33.1,
          29.5,
          24.8,
          20.9,
          43.1,
          22.8,
          42.1,
          51.7,
          41.5,
          52.2,
          49.5,
          23.8,
          30.5,
          56.8,
          37.4,
          69.7,
          53.3,
          47.3,
          29.3,
          40.3,
          12.9,
          46.6,
          55.3,
          25.6,
          27.3,
          67.7,
          38.6,
          31.3,
          35.3,
          40.3,
          24.7,
          42.5,
          31.9,
          32.2,
          23,
          37.3,
          35.5,
          27.7,
          28.5,
          39.7,
          41.2,
          37.2,
          40.5,
          22.3,
          28.1,
          15.4,
          50,
          40.6,
          52.5,
          63.9
         ],
         "yaxis": "y"
        }
       ],
       "layout": {
        "legend": {
         "tracegroupgap": 0
        },
        "template": {
         "data": {
          "bar": [
           {
            "error_x": {
             "color": "#2a3f5f"
            },
            "error_y": {
             "color": "#2a3f5f"
            },
            "marker": {
             "line": {
              "color": "#E5ECF6",
              "width": 0.5
             },
             "pattern": {
              "fillmode": "overlay",
              "size": 10,
              "solidity": 0.2
             }
            },
            "type": "bar"
           }
          ],
          "barpolar": [
           {
            "marker": {
             "line": {
              "color": "#E5ECF6",
              "width": 0.5
             },
             "pattern": {
              "fillmode": "overlay",
              "size": 10,
              "solidity": 0.2
             }
            },
            "type": "barpolar"
           }
          ],
          "carpet": [
           {
            "aaxis": {
             "endlinecolor": "#2a3f5f",
             "gridcolor": "white",
             "linecolor": "white",
             "minorgridcolor": "white",
             "startlinecolor": "#2a3f5f"
            },
            "baxis": {
             "endlinecolor": "#2a3f5f",
             "gridcolor": "white",
             "linecolor": "white",
             "minorgridcolor": "white",
             "startlinecolor": "#2a3f5f"
            },
            "type": "carpet"
           }
          ],
          "choropleth": [
           {
            "colorbar": {
             "outlinewidth": 0,
             "ticks": ""
            },
            "type": "choropleth"
           }
          ],
          "contour": [
           {
            "colorbar": {
             "outlinewidth": 0,
             "ticks": ""
            },
            "colorscale": [
             [
              0,
              "#0d0887"
             ],
             [
              0.1111111111111111,
              "#46039f"
             ],
             [
              0.2222222222222222,
              "#7201a8"
             ],
             [
              0.3333333333333333,
              "#9c179e"
             ],
             [
              0.4444444444444444,
              "#bd3786"
             ],
             [
              0.5555555555555556,
              "#d8576b"
             ],
             [
              0.6666666666666666,
              "#ed7953"
             ],
             [
              0.7777777777777778,
              "#fb9f3a"
             ],
             [
              0.8888888888888888,
              "#fdca26"
             ],
             [
              1,
              "#f0f921"
             ]
            ],
            "type": "contour"
           }
          ],
          "contourcarpet": [
           {
            "colorbar": {
             "outlinewidth": 0,
             "ticks": ""
            },
            "type": "contourcarpet"
           }
          ],
          "heatmap": [
           {
            "colorbar": {
             "outlinewidth": 0,
             "ticks": ""
            },
            "colorscale": [
             [
              0,
              "#0d0887"
             ],
             [
              0.1111111111111111,
              "#46039f"
             ],
             [
              0.2222222222222222,
              "#7201a8"
             ],
             [
              0.3333333333333333,
              "#9c179e"
             ],
             [
              0.4444444444444444,
              "#bd3786"
             ],
             [
              0.5555555555555556,
              "#d8576b"
             ],
             [
              0.6666666666666666,
              "#ed7953"
             ],
             [
              0.7777777777777778,
              "#fb9f3a"
             ],
             [
              0.8888888888888888,
              "#fdca26"
             ],
             [
              1,
              "#f0f921"
             ]
            ],
            "type": "heatmap"
           }
          ],
          "heatmapgl": [
           {
            "colorbar": {
             "outlinewidth": 0,
             "ticks": ""
            },
            "colorscale": [
             [
              0,
              "#0d0887"
             ],
             [
              0.1111111111111111,
              "#46039f"
             ],
             [
              0.2222222222222222,
              "#7201a8"
             ],
             [
              0.3333333333333333,
              "#9c179e"
             ],
             [
              0.4444444444444444,
              "#bd3786"
             ],
             [
              0.5555555555555556,
              "#d8576b"
             ],
             [
              0.6666666666666666,
              "#ed7953"
             ],
             [
              0.7777777777777778,
              "#fb9f3a"
             ],
             [
              0.8888888888888888,
              "#fdca26"
             ],
             [
              1,
              "#f0f921"
             ]
            ],
            "type": "heatmapgl"
           }
          ],
          "histogram": [
           {
            "marker": {
             "pattern": {
              "fillmode": "overlay",
              "size": 10,
              "solidity": 0.2
             }
            },
            "type": "histogram"
           }
          ],
          "histogram2d": [
           {
            "colorbar": {
             "outlinewidth": 0,
             "ticks": ""
            },
            "colorscale": [
             [
              0,
              "#0d0887"
             ],
             [
              0.1111111111111111,
              "#46039f"
             ],
             [
              0.2222222222222222,
              "#7201a8"
             ],
             [
              0.3333333333333333,
              "#9c179e"
             ],
             [
              0.4444444444444444,
              "#bd3786"
             ],
             [
              0.5555555555555556,
              "#d8576b"
             ],
             [
              0.6666666666666666,
              "#ed7953"
             ],
             [
              0.7777777777777778,
              "#fb9f3a"
             ],
             [
              0.8888888888888888,
              "#fdca26"
             ],
             [
              1,
              "#f0f921"
             ]
            ],
            "type": "histogram2d"
           }
          ],
          "histogram2dcontour": [
           {
            "colorbar": {
             "outlinewidth": 0,
             "ticks": ""
            },
            "colorscale": [
             [
              0,
              "#0d0887"
             ],
             [
              0.1111111111111111,
              "#46039f"
             ],
             [
              0.2222222222222222,
              "#7201a8"
             ],
             [
              0.3333333333333333,
              "#9c179e"
             ],
             [
              0.4444444444444444,
              "#bd3786"
             ],
             [
              0.5555555555555556,
              "#d8576b"
             ],
             [
              0.6666666666666666,
              "#ed7953"
             ],
             [
              0.7777777777777778,
              "#fb9f3a"
             ],
             [
              0.8888888888888888,
              "#fdca26"
             ],
             [
              1,
              "#f0f921"
             ]
            ],
            "type": "histogram2dcontour"
           }
          ],
          "mesh3d": [
           {
            "colorbar": {
             "outlinewidth": 0,
             "ticks": ""
            },
            "type": "mesh3d"
           }
          ],
          "parcoords": [
           {
            "line": {
             "colorbar": {
              "outlinewidth": 0,
              "ticks": ""
             }
            },
            "type": "parcoords"
           }
          ],
          "pie": [
           {
            "automargin": true,
            "type": "pie"
           }
          ],
          "scatter": [
           {
            "fillpattern": {
             "fillmode": "overlay",
             "size": 10,
             "solidity": 0.2
            },
            "type": "scatter"
           }
          ],
          "scatter3d": [
           {
            "line": {
             "colorbar": {
              "outlinewidth": 0,
              "ticks": ""
             }
            },
            "marker": {
             "colorbar": {
              "outlinewidth": 0,
              "ticks": ""
             }
            },
            "type": "scatter3d"
           }
          ],
          "scattercarpet": [
           {
            "marker": {
             "colorbar": {
              "outlinewidth": 0,
              "ticks": ""
             }
            },
            "type": "scattercarpet"
           }
          ],
          "scattergeo": [
           {
            "marker": {
             "colorbar": {
              "outlinewidth": 0,
              "ticks": ""
             }
            },
            "type": "scattergeo"
           }
          ],
          "scattergl": [
           {
            "marker": {
             "colorbar": {
              "outlinewidth": 0,
              "ticks": ""
             }
            },
            "type": "scattergl"
           }
          ],
          "scattermapbox": [
           {
            "marker": {
             "colorbar": {
              "outlinewidth": 0,
              "ticks": ""
             }
            },
            "type": "scattermapbox"
           }
          ],
          "scatterpolar": [
           {
            "marker": {
             "colorbar": {
              "outlinewidth": 0,
              "ticks": ""
             }
            },
            "type": "scatterpolar"
           }
          ],
          "scatterpolargl": [
           {
            "marker": {
             "colorbar": {
              "outlinewidth": 0,
              "ticks": ""
             }
            },
            "type": "scatterpolargl"
           }
          ],
          "scatterternary": [
           {
            "marker": {
             "colorbar": {
              "outlinewidth": 0,
              "ticks": ""
             }
            },
            "type": "scatterternary"
           }
          ],
          "surface": [
           {
            "colorbar": {
             "outlinewidth": 0,
             "ticks": ""
            },
            "colorscale": [
             [
              0,
              "#0d0887"
             ],
             [
              0.1111111111111111,
              "#46039f"
             ],
             [
              0.2222222222222222,
              "#7201a8"
             ],
             [
              0.3333333333333333,
              "#9c179e"
             ],
             [
              0.4444444444444444,
              "#bd3786"
             ],
             [
              0.5555555555555556,
              "#d8576b"
             ],
             [
              0.6666666666666666,
              "#ed7953"
             ],
             [
              0.7777777777777778,
              "#fb9f3a"
             ],
             [
              0.8888888888888888,
              "#fdca26"
             ],
             [
              1,
              "#f0f921"
             ]
            ],
            "type": "surface"
           }
          ],
          "table": [
           {
            "cells": {
             "fill": {
              "color": "#EBF0F8"
             },
             "line": {
              "color": "white"
             }
            },
            "header": {
             "fill": {
              "color": "#C8D4E3"
             },
             "line": {
              "color": "white"
             }
            },
            "type": "table"
           }
          ]
         },
         "layout": {
          "annotationdefaults": {
           "arrowcolor": "#2a3f5f",
           "arrowhead": 0,
           "arrowwidth": 1
          },
          "autotypenumbers": "strict",
          "coloraxis": {
           "colorbar": {
            "outlinewidth": 0,
            "ticks": ""
           }
          },
          "colorscale": {
           "diverging": [
            [
             0,
             "#8e0152"
            ],
            [
             0.1,
             "#c51b7d"
            ],
            [
             0.2,
             "#de77ae"
            ],
            [
             0.3,
             "#f1b6da"
            ],
            [
             0.4,
             "#fde0ef"
            ],
            [
             0.5,
             "#f7f7f7"
            ],
            [
             0.6,
             "#e6f5d0"
            ],
            [
             0.7,
             "#b8e186"
            ],
            [
             0.8,
             "#7fbc41"
            ],
            [
             0.9,
             "#4d9221"
            ],
            [
             1,
             "#276419"
            ]
           ],
           "sequential": [
            [
             0,
             "#0d0887"
            ],
            [
             0.1111111111111111,
             "#46039f"
            ],
            [
             0.2222222222222222,
             "#7201a8"
            ],
            [
             0.3333333333333333,
             "#9c179e"
            ],
            [
             0.4444444444444444,
             "#bd3786"
            ],
            [
             0.5555555555555556,
             "#d8576b"
            ],
            [
             0.6666666666666666,
             "#ed7953"
            ],
            [
             0.7777777777777778,
             "#fb9f3a"
            ],
            [
             0.8888888888888888,
             "#fdca26"
            ],
            [
             1,
             "#f0f921"
            ]
           ],
           "sequentialminus": [
            [
             0,
             "#0d0887"
            ],
            [
             0.1111111111111111,
             "#46039f"
            ],
            [
             0.2222222222222222,
             "#7201a8"
            ],
            [
             0.3333333333333333,
             "#9c179e"
            ],
            [
             0.4444444444444444,
             "#bd3786"
            ],
            [
             0.5555555555555556,
             "#d8576b"
            ],
            [
             0.6666666666666666,
             "#ed7953"
            ],
            [
             0.7777777777777778,
             "#fb9f3a"
            ],
            [
             0.8888888888888888,
             "#fdca26"
            ],
            [
             1,
             "#f0f921"
            ]
           ]
          },
          "colorway": [
           "#636efa",
           "#EF553B",
           "#00cc96",
           "#ab63fa",
           "#FFA15A",
           "#19d3f3",
           "#FF6692",
           "#B6E880",
           "#FF97FF",
           "#FECB52"
          ],
          "font": {
           "color": "#2a3f5f"
          },
          "geo": {
           "bgcolor": "white",
           "lakecolor": "white",
           "landcolor": "#E5ECF6",
           "showlakes": true,
           "showland": true,
           "subunitcolor": "white"
          },
          "hoverlabel": {
           "align": "left"
          },
          "hovermode": "closest",
          "mapbox": {
           "style": "light"
          },
          "paper_bgcolor": "white",
          "plot_bgcolor": "#E5ECF6",
          "polar": {
           "angularaxis": {
            "gridcolor": "white",
            "linecolor": "white",
            "ticks": ""
           },
           "bgcolor": "#E5ECF6",
           "radialaxis": {
            "gridcolor": "white",
            "linecolor": "white",
            "ticks": ""
           }
          },
          "scene": {
           "xaxis": {
            "backgroundcolor": "#E5ECF6",
            "gridcolor": "white",
            "gridwidth": 2,
            "linecolor": "white",
            "showbackground": true,
            "ticks": "",
            "zerolinecolor": "white"
           },
           "yaxis": {
            "backgroundcolor": "#E5ECF6",
            "gridcolor": "white",
            "gridwidth": 2,
            "linecolor": "white",
            "showbackground": true,
            "ticks": "",
            "zerolinecolor": "white"
           },
           "zaxis": {
            "backgroundcolor": "#E5ECF6",
            "gridcolor": "white",
            "gridwidth": 2,
            "linecolor": "white",
            "showbackground": true,
            "ticks": "",
            "zerolinecolor": "white"
           }
          },
          "shapedefaults": {
           "line": {
            "color": "#2a3f5f"
           }
          },
          "ternary": {
           "aaxis": {
            "gridcolor": "white",
            "linecolor": "white",
            "ticks": ""
           },
           "baxis": {
            "gridcolor": "white",
            "linecolor": "white",
            "ticks": ""
           },
           "bgcolor": "#E5ECF6",
           "caxis": {
            "gridcolor": "white",
            "linecolor": "white",
            "ticks": ""
           }
          },
          "title": {
           "x": 0.05
          },
          "xaxis": {
           "automargin": true,
           "gridcolor": "white",
           "linecolor": "white",
           "ticks": "",
           "title": {
            "standoff": 15
           },
           "zerolinecolor": "white",
           "zerolinewidth": 2
          },
          "yaxis": {
           "automargin": true,
           "gridcolor": "white",
           "linecolor": "white",
           "ticks": "",
           "title": {
            "standoff": 15
           },
           "zerolinecolor": "white",
           "zerolinewidth": 2
          }
         }
        },
        "title": {
         "text": "Effect of nearest_mrt_station on price"
        },
        "xaxis": {
         "anchor": "y",
         "domain": [
          0,
          1
         ],
         "title": {
          "text": "nearest_mrt_station"
         }
        },
        "yaxis": {
         "anchor": "x",
         "domain": [
          0,
          1
         ],
         "title": {
          "text": "house_price_of_unit_area"
         }
        }
       }
      }
     },
     "metadata": {},
     "output_type": "display_data"
    }
   ],
   "source": [
    "px.scatter(house_df, x = 'nearest_mrt_station', y = 'house_price_of_unit_area', title = 'Effect of nearest_mrt_station on price' )"
   ]
  },
  {
   "cell_type": "markdown",
   "metadata": {},
   "source": [
    "#### Conclusion : Price increases for the house which have a mrt_station near them"
   ]
  },
  {
   "cell_type": "markdown",
   "metadata": {},
   "source": [
    "### 3. Effect of no_of_stores_nearby on price"
   ]
  },
  {
   "cell_type": "code",
   "execution_count": 13,
   "metadata": {},
   "outputs": [
    {
     "data": {
      "application/vnd.plotly.v1+json": {
       "config": {
        "plotlyServerURL": "https://plot.ly"
       },
       "data": [
        {
         "hovertemplate": "no_of_stores_nearby=%{x}<br>house_price_of_unit_area=%{y}<extra></extra>",
         "legendgroup": "",
         "marker": {
          "color": "#636efa",
          "symbol": "circle"
         },
         "mode": "markers",
         "name": "",
         "orientation": "v",
         "showlegend": false,
         "type": "scatter",
         "x": [
          10,
          9,
          5,
          5,
          5,
          3,
          7,
          6,
          1,
          3,
          1,
          9,
          5,
          4,
          4,
          2,
          6,
          1,
          8,
          7,
          3,
          7,
          1,
          7,
          4,
          2,
          5,
          5,
          4,
          5,
          0,
          7,
          1,
          6,
          7,
          0,
          2,
          1,
          6,
          5,
          0,
          0,
          5,
          6,
          4,
          8,
          9,
          3,
          0,
          1,
          4,
          1,
          3,
          5,
          5,
          0,
          8,
          7,
          1,
          5,
          2,
          6,
          3,
          4,
          0,
          8,
          6,
          5,
          6,
          5,
          9,
          3,
          8,
          0,
          10,
          1,
          3,
          3,
          2,
          1,
          4,
          6,
          7,
          3,
          7,
          9,
          1,
          0,
          0,
          0,
          1,
          0,
          4,
          0,
          5,
          5,
          9,
          3,
          5,
          9,
          4,
          1,
          6,
          6,
          6,
          6,
          8,
          1,
          2,
          3,
          5,
          7,
          3,
          6,
          8,
          2,
          1,
          0,
          3,
          5,
          5,
          5,
          4,
          0,
          7,
          6,
          4,
          5,
          6,
          7,
          8,
          3,
          5,
          8,
          6,
          0,
          5,
          6,
          0,
          5,
          5,
          3,
          5,
          5,
          1,
          5,
          0,
          8,
          0,
          8,
          7,
          9,
          1,
          6,
          0,
          0,
          0,
          4,
          5,
          4,
          8,
          3,
          0,
          5,
          0,
          1,
          6,
          8,
          5,
          1,
          0,
          5,
          9,
          4,
          7,
          3,
          0,
          9,
          4,
          1,
          0,
          8,
          3,
          0,
          0,
          3,
          3,
          0,
          8,
          0,
          8,
          2,
          7,
          5,
          0,
          5,
          2,
          8,
          7,
          8,
          0,
          5,
          3,
          5,
          1,
          3,
          10,
          3,
          1,
          8,
          5,
          1,
          2,
          9,
          3,
          8,
          1,
          6,
          5,
          8,
          9,
          0,
          10,
          0,
          6,
          6,
          0,
          8,
          0,
          0,
          3,
          0,
          1,
          9,
          4,
          7,
          10,
          0,
          0,
          0,
          2,
          7,
          3,
          8,
          3,
          5,
          6,
          0,
          0,
          1,
          7,
          0,
          9,
          2,
          5,
          1,
          1,
          1,
          6,
          0,
          4,
          3,
          5,
          3,
          7,
          4,
          3,
          5,
          5,
          0,
          1,
          8,
          5,
          1,
          7,
          7,
          5,
          3,
          6,
          3,
          6,
          9,
          1,
          2,
          7,
          3,
          9,
          5,
          6,
          5,
          0,
          7,
          5,
          7,
          6,
          3,
          4,
          4,
          0,
          10,
          4,
          0,
          3,
          0,
          3,
          5,
          1,
          0,
          5,
          0,
          2,
          4,
          9,
          5,
          6,
          2,
          7,
          2,
          10,
          5,
          0,
          4,
          1,
          6,
          2,
          8,
          7,
          3,
          3,
          0,
          0,
          0,
          2,
          5,
          5,
          6,
          2,
          5,
          9,
          5,
          0,
          2,
          9,
          8,
          0,
          0,
          2,
          1,
          6,
          5,
          5,
          3,
          3,
          3,
          1,
          5,
          1,
          9,
          6,
          0,
          10,
          8,
          4,
          10,
          7,
          4,
          1,
          2,
          1,
          3,
          5,
          5,
          7,
          1,
          5,
          0,
          2,
          8,
          8,
          6,
          5,
          9,
          0,
          4,
          0,
          10,
          0,
          3,
          4,
          8,
          9,
          1,
          6,
          4,
          1,
          4,
          1,
          4,
          2,
          1,
          5,
          3,
          1,
          9,
          5,
          6,
          7,
          0,
          3,
          0,
          9,
          7,
          5,
          9
         ],
         "xaxis": "x",
         "y": [
          37.9,
          42.2,
          47.3,
          54.8,
          43.1,
          32.1,
          40.3,
          46.7,
          18.8,
          22.1,
          41.4,
          58.1,
          39.3,
          23.8,
          34.3,
          50.5,
          70.1,
          37.4,
          42.3,
          47.7,
          29.3,
          51.6,
          24.6,
          47.9,
          38.8,
          27,
          56.2,
          33.6,
          47,
          57.1,
          22.1,
          25,
          34.2,
          49.3,
          55.1,
          27.3,
          22.9,
          25.3,
          47.7,
          46.2,
          15.9,
          18.2,
          34.7,
          34.1,
          53.9,
          38.3,
          42,
          61.5,
          13.4,
          13.2,
          44.2,
          20.7,
          27,
          38.9,
          51.7,
          13.7,
          41.9,
          53.5,
          22.6,
          42.4,
          21.3,
          63.2,
          27.7,
          55,
          25.3,
          44.3,
          50.7,
          56.8,
          36.2,
          42,
          59,
          40.8,
          36.3,
          20,
          54.4,
          29.5,
          36.8,
          25.6,
          29.8,
          26.5,
          40.3,
          36.8,
          48.1,
          17.7,
          43.7,
          50.8,
          27,
          18.3,
          48,
          25.3,
          45.4,
          43.2,
          21.8,
          16.1,
          41,
          51.8,
          59.5,
          34.6,
          51,
          62.2,
          38.2,
          32.9,
          54.4,
          45.7,
          30.5,
          71,
          47.1,
          26.6,
          34.1,
          28.4,
          51.6,
          39.4,
          23.1,
          7.6,
          53.3,
          46.4,
          12.2,
          13,
          30.6,
          59.6,
          31.3,
          48,
          32.5,
          45.5,
          57.4,
          48.6,
          62.9,
          55,
          60.7,
          41,
          37.5,
          30.7,
          37.5,
          39.5,
          42.2,
          20.8,
          46.8,
          47.4,
          43.5,
          42.5,
          51.4,
          28.9,
          37.5,
          40.1,
          28.4,
          45.5,
          52.2,
          43.2,
          45.1,
          39.7,
          48.5,
          44.7,
          28.9,
          40.9,
          20.7,
          15.6,
          18.3,
          35.6,
          39.4,
          37.4,
          57.8,
          39.6,
          11.6,
          55.5,
          55.2,
          30.6,
          73.6,
          43.4,
          37.4,
          23.5,
          14.4,
          58.8,
          58.1,
          35.1,
          45.2,
          36.5,
          19.2,
          42,
          36.7,
          42.6,
          15.5,
          55.9,
          23.6,
          18.8,
          21.8,
          21.5,
          25.7,
          22,
          44.3,
          20.5,
          42.3,
          37.8,
          42.7,
          49.3,
          29.3,
          34.6,
          36.6,
          48.2,
          39.1,
          31.6,
          25.5,
          45.9,
          31.5,
          46.1,
          26.6,
          21.4,
          44,
          34.2,
          26.2,
          40.9,
          52.2,
          43.5,
          31.1,
          58,
          20.9,
          48.1,
          39.7,
          40.8,
          43.8,
          40.2,
          78.3,
          38.5,
          48.5,
          42.3,
          46,
          49,
          12.8,
          40.2,
          46.6,
          19,
          33.4,
          14.7,
          17.4,
          32.4,
          23.9,
          39.3,
          61.9,
          39,
          40.6,
          29.7,
          28.8,
          41.4,
          33.4,
          48.2,
          21.7,
          40.8,
          40.6,
          23.1,
          22.3,
          15,
          30,
          13.8,
          52.7,
          25.9,
          51.8,
          17.4,
          26.5,
          43.9,
          63.3,
          28.8,
          30.7,
          24.4,
          53,
          31.7,
          40.6,
          38.1,
          23.7,
          41.1,
          40.1,
          23,
          117.5,
          26.5,
          40.5,
          29.3,
          41,
          49.7,
          34,
          27.7,
          44,
          31.1,
          45.4,
          44.8,
          25.6,
          23.5,
          34.4,
          55.3,
          56.3,
          32.9,
          51,
          44.5,
          37,
          54.4,
          24.5,
          42.5,
          38.1,
          21.8,
          34.1,
          28.5,
          16.7,
          46.1,
          36.9,
          35.7,
          23.2,
          38.4,
          29.4,
          55,
          50.2,
          24.7,
          53,
          19.1,
          24.7,
          42.2,
          78,
          42.8,
          41.6,
          27.3,
          42,
          37.5,
          49.8,
          26.9,
          18.6,
          37.7,
          33.1,
          42.5,
          31.3,
          38.1,
          62.1,
          36.7,
          23.6,
          19.2,
          12.8,
          15.6,
          39.6,
          38.4,
          22.8,
          36.5,
          35.6,
          30.9,
          36.3,
          50.4,
          42.9,
          37,
          53.5,
          46.6,
          41.2,
          37.9,
          30.8,
          11.2,
          53.7,
          47,
          42.3,
          28.6,
          25.7,
          31.3,
          30.1,
          60.7,
          45.3,
          44.9,
          45.1,
          24.7,
          47.1,
          63.3,
          40,
          48,
          33.1,
          29.5,
          24.8,
          20.9,
          43.1,
          22.8,
          42.1,
          51.7,
          41.5,
          52.2,
          49.5,
          23.8,
          30.5,
          56.8,
          37.4,
          69.7,
          53.3,
          47.3,
          29.3,
          40.3,
          12.9,
          46.6,
          55.3,
          25.6,
          27.3,
          67.7,
          38.6,
          31.3,
          35.3,
          40.3,
          24.7,
          42.5,
          31.9,
          32.2,
          23,
          37.3,
          35.5,
          27.7,
          28.5,
          39.7,
          41.2,
          37.2,
          40.5,
          22.3,
          28.1,
          15.4,
          50,
          40.6,
          52.5,
          63.9
         ],
         "yaxis": "y"
        }
       ],
       "layout": {
        "legend": {
         "tracegroupgap": 0
        },
        "template": {
         "data": {
          "bar": [
           {
            "error_x": {
             "color": "#2a3f5f"
            },
            "error_y": {
             "color": "#2a3f5f"
            },
            "marker": {
             "line": {
              "color": "#E5ECF6",
              "width": 0.5
             },
             "pattern": {
              "fillmode": "overlay",
              "size": 10,
              "solidity": 0.2
             }
            },
            "type": "bar"
           }
          ],
          "barpolar": [
           {
            "marker": {
             "line": {
              "color": "#E5ECF6",
              "width": 0.5
             },
             "pattern": {
              "fillmode": "overlay",
              "size": 10,
              "solidity": 0.2
             }
            },
            "type": "barpolar"
           }
          ],
          "carpet": [
           {
            "aaxis": {
             "endlinecolor": "#2a3f5f",
             "gridcolor": "white",
             "linecolor": "white",
             "minorgridcolor": "white",
             "startlinecolor": "#2a3f5f"
            },
            "baxis": {
             "endlinecolor": "#2a3f5f",
             "gridcolor": "white",
             "linecolor": "white",
             "minorgridcolor": "white",
             "startlinecolor": "#2a3f5f"
            },
            "type": "carpet"
           }
          ],
          "choropleth": [
           {
            "colorbar": {
             "outlinewidth": 0,
             "ticks": ""
            },
            "type": "choropleth"
           }
          ],
          "contour": [
           {
            "colorbar": {
             "outlinewidth": 0,
             "ticks": ""
            },
            "colorscale": [
             [
              0,
              "#0d0887"
             ],
             [
              0.1111111111111111,
              "#46039f"
             ],
             [
              0.2222222222222222,
              "#7201a8"
             ],
             [
              0.3333333333333333,
              "#9c179e"
             ],
             [
              0.4444444444444444,
              "#bd3786"
             ],
             [
              0.5555555555555556,
              "#d8576b"
             ],
             [
              0.6666666666666666,
              "#ed7953"
             ],
             [
              0.7777777777777778,
              "#fb9f3a"
             ],
             [
              0.8888888888888888,
              "#fdca26"
             ],
             [
              1,
              "#f0f921"
             ]
            ],
            "type": "contour"
           }
          ],
          "contourcarpet": [
           {
            "colorbar": {
             "outlinewidth": 0,
             "ticks": ""
            },
            "type": "contourcarpet"
           }
          ],
          "heatmap": [
           {
            "colorbar": {
             "outlinewidth": 0,
             "ticks": ""
            },
            "colorscale": [
             [
              0,
              "#0d0887"
             ],
             [
              0.1111111111111111,
              "#46039f"
             ],
             [
              0.2222222222222222,
              "#7201a8"
             ],
             [
              0.3333333333333333,
              "#9c179e"
             ],
             [
              0.4444444444444444,
              "#bd3786"
             ],
             [
              0.5555555555555556,
              "#d8576b"
             ],
             [
              0.6666666666666666,
              "#ed7953"
             ],
             [
              0.7777777777777778,
              "#fb9f3a"
             ],
             [
              0.8888888888888888,
              "#fdca26"
             ],
             [
              1,
              "#f0f921"
             ]
            ],
            "type": "heatmap"
           }
          ],
          "heatmapgl": [
           {
            "colorbar": {
             "outlinewidth": 0,
             "ticks": ""
            },
            "colorscale": [
             [
              0,
              "#0d0887"
             ],
             [
              0.1111111111111111,
              "#46039f"
             ],
             [
              0.2222222222222222,
              "#7201a8"
             ],
             [
              0.3333333333333333,
              "#9c179e"
             ],
             [
              0.4444444444444444,
              "#bd3786"
             ],
             [
              0.5555555555555556,
              "#d8576b"
             ],
             [
              0.6666666666666666,
              "#ed7953"
             ],
             [
              0.7777777777777778,
              "#fb9f3a"
             ],
             [
              0.8888888888888888,
              "#fdca26"
             ],
             [
              1,
              "#f0f921"
             ]
            ],
            "type": "heatmapgl"
           }
          ],
          "histogram": [
           {
            "marker": {
             "pattern": {
              "fillmode": "overlay",
              "size": 10,
              "solidity": 0.2
             }
            },
            "type": "histogram"
           }
          ],
          "histogram2d": [
           {
            "colorbar": {
             "outlinewidth": 0,
             "ticks": ""
            },
            "colorscale": [
             [
              0,
              "#0d0887"
             ],
             [
              0.1111111111111111,
              "#46039f"
             ],
             [
              0.2222222222222222,
              "#7201a8"
             ],
             [
              0.3333333333333333,
              "#9c179e"
             ],
             [
              0.4444444444444444,
              "#bd3786"
             ],
             [
              0.5555555555555556,
              "#d8576b"
             ],
             [
              0.6666666666666666,
              "#ed7953"
             ],
             [
              0.7777777777777778,
              "#fb9f3a"
             ],
             [
              0.8888888888888888,
              "#fdca26"
             ],
             [
              1,
              "#f0f921"
             ]
            ],
            "type": "histogram2d"
           }
          ],
          "histogram2dcontour": [
           {
            "colorbar": {
             "outlinewidth": 0,
             "ticks": ""
            },
            "colorscale": [
             [
              0,
              "#0d0887"
             ],
             [
              0.1111111111111111,
              "#46039f"
             ],
             [
              0.2222222222222222,
              "#7201a8"
             ],
             [
              0.3333333333333333,
              "#9c179e"
             ],
             [
              0.4444444444444444,
              "#bd3786"
             ],
             [
              0.5555555555555556,
              "#d8576b"
             ],
             [
              0.6666666666666666,
              "#ed7953"
             ],
             [
              0.7777777777777778,
              "#fb9f3a"
             ],
             [
              0.8888888888888888,
              "#fdca26"
             ],
             [
              1,
              "#f0f921"
             ]
            ],
            "type": "histogram2dcontour"
           }
          ],
          "mesh3d": [
           {
            "colorbar": {
             "outlinewidth": 0,
             "ticks": ""
            },
            "type": "mesh3d"
           }
          ],
          "parcoords": [
           {
            "line": {
             "colorbar": {
              "outlinewidth": 0,
              "ticks": ""
             }
            },
            "type": "parcoords"
           }
          ],
          "pie": [
           {
            "automargin": true,
            "type": "pie"
           }
          ],
          "scatter": [
           {
            "fillpattern": {
             "fillmode": "overlay",
             "size": 10,
             "solidity": 0.2
            },
            "type": "scatter"
           }
          ],
          "scatter3d": [
           {
            "line": {
             "colorbar": {
              "outlinewidth": 0,
              "ticks": ""
             }
            },
            "marker": {
             "colorbar": {
              "outlinewidth": 0,
              "ticks": ""
             }
            },
            "type": "scatter3d"
           }
          ],
          "scattercarpet": [
           {
            "marker": {
             "colorbar": {
              "outlinewidth": 0,
              "ticks": ""
             }
            },
            "type": "scattercarpet"
           }
          ],
          "scattergeo": [
           {
            "marker": {
             "colorbar": {
              "outlinewidth": 0,
              "ticks": ""
             }
            },
            "type": "scattergeo"
           }
          ],
          "scattergl": [
           {
            "marker": {
             "colorbar": {
              "outlinewidth": 0,
              "ticks": ""
             }
            },
            "type": "scattergl"
           }
          ],
          "scattermapbox": [
           {
            "marker": {
             "colorbar": {
              "outlinewidth": 0,
              "ticks": ""
             }
            },
            "type": "scattermapbox"
           }
          ],
          "scatterpolar": [
           {
            "marker": {
             "colorbar": {
              "outlinewidth": 0,
              "ticks": ""
             }
            },
            "type": "scatterpolar"
           }
          ],
          "scatterpolargl": [
           {
            "marker": {
             "colorbar": {
              "outlinewidth": 0,
              "ticks": ""
             }
            },
            "type": "scatterpolargl"
           }
          ],
          "scatterternary": [
           {
            "marker": {
             "colorbar": {
              "outlinewidth": 0,
              "ticks": ""
             }
            },
            "type": "scatterternary"
           }
          ],
          "surface": [
           {
            "colorbar": {
             "outlinewidth": 0,
             "ticks": ""
            },
            "colorscale": [
             [
              0,
              "#0d0887"
             ],
             [
              0.1111111111111111,
              "#46039f"
             ],
             [
              0.2222222222222222,
              "#7201a8"
             ],
             [
              0.3333333333333333,
              "#9c179e"
             ],
             [
              0.4444444444444444,
              "#bd3786"
             ],
             [
              0.5555555555555556,
              "#d8576b"
             ],
             [
              0.6666666666666666,
              "#ed7953"
             ],
             [
              0.7777777777777778,
              "#fb9f3a"
             ],
             [
              0.8888888888888888,
              "#fdca26"
             ],
             [
              1,
              "#f0f921"
             ]
            ],
            "type": "surface"
           }
          ],
          "table": [
           {
            "cells": {
             "fill": {
              "color": "#EBF0F8"
             },
             "line": {
              "color": "white"
             }
            },
            "header": {
             "fill": {
              "color": "#C8D4E3"
             },
             "line": {
              "color": "white"
             }
            },
            "type": "table"
           }
          ]
         },
         "layout": {
          "annotationdefaults": {
           "arrowcolor": "#2a3f5f",
           "arrowhead": 0,
           "arrowwidth": 1
          },
          "autotypenumbers": "strict",
          "coloraxis": {
           "colorbar": {
            "outlinewidth": 0,
            "ticks": ""
           }
          },
          "colorscale": {
           "diverging": [
            [
             0,
             "#8e0152"
            ],
            [
             0.1,
             "#c51b7d"
            ],
            [
             0.2,
             "#de77ae"
            ],
            [
             0.3,
             "#f1b6da"
            ],
            [
             0.4,
             "#fde0ef"
            ],
            [
             0.5,
             "#f7f7f7"
            ],
            [
             0.6,
             "#e6f5d0"
            ],
            [
             0.7,
             "#b8e186"
            ],
            [
             0.8,
             "#7fbc41"
            ],
            [
             0.9,
             "#4d9221"
            ],
            [
             1,
             "#276419"
            ]
           ],
           "sequential": [
            [
             0,
             "#0d0887"
            ],
            [
             0.1111111111111111,
             "#46039f"
            ],
            [
             0.2222222222222222,
             "#7201a8"
            ],
            [
             0.3333333333333333,
             "#9c179e"
            ],
            [
             0.4444444444444444,
             "#bd3786"
            ],
            [
             0.5555555555555556,
             "#d8576b"
            ],
            [
             0.6666666666666666,
             "#ed7953"
            ],
            [
             0.7777777777777778,
             "#fb9f3a"
            ],
            [
             0.8888888888888888,
             "#fdca26"
            ],
            [
             1,
             "#f0f921"
            ]
           ],
           "sequentialminus": [
            [
             0,
             "#0d0887"
            ],
            [
             0.1111111111111111,
             "#46039f"
            ],
            [
             0.2222222222222222,
             "#7201a8"
            ],
            [
             0.3333333333333333,
             "#9c179e"
            ],
            [
             0.4444444444444444,
             "#bd3786"
            ],
            [
             0.5555555555555556,
             "#d8576b"
            ],
            [
             0.6666666666666666,
             "#ed7953"
            ],
            [
             0.7777777777777778,
             "#fb9f3a"
            ],
            [
             0.8888888888888888,
             "#fdca26"
            ],
            [
             1,
             "#f0f921"
            ]
           ]
          },
          "colorway": [
           "#636efa",
           "#EF553B",
           "#00cc96",
           "#ab63fa",
           "#FFA15A",
           "#19d3f3",
           "#FF6692",
           "#B6E880",
           "#FF97FF",
           "#FECB52"
          ],
          "font": {
           "color": "#2a3f5f"
          },
          "geo": {
           "bgcolor": "white",
           "lakecolor": "white",
           "landcolor": "#E5ECF6",
           "showlakes": true,
           "showland": true,
           "subunitcolor": "white"
          },
          "hoverlabel": {
           "align": "left"
          },
          "hovermode": "closest",
          "mapbox": {
           "style": "light"
          },
          "paper_bgcolor": "white",
          "plot_bgcolor": "#E5ECF6",
          "polar": {
           "angularaxis": {
            "gridcolor": "white",
            "linecolor": "white",
            "ticks": ""
           },
           "bgcolor": "#E5ECF6",
           "radialaxis": {
            "gridcolor": "white",
            "linecolor": "white",
            "ticks": ""
           }
          },
          "scene": {
           "xaxis": {
            "backgroundcolor": "#E5ECF6",
            "gridcolor": "white",
            "gridwidth": 2,
            "linecolor": "white",
            "showbackground": true,
            "ticks": "",
            "zerolinecolor": "white"
           },
           "yaxis": {
            "backgroundcolor": "#E5ECF6",
            "gridcolor": "white",
            "gridwidth": 2,
            "linecolor": "white",
            "showbackground": true,
            "ticks": "",
            "zerolinecolor": "white"
           },
           "zaxis": {
            "backgroundcolor": "#E5ECF6",
            "gridcolor": "white",
            "gridwidth": 2,
            "linecolor": "white",
            "showbackground": true,
            "ticks": "",
            "zerolinecolor": "white"
           }
          },
          "shapedefaults": {
           "line": {
            "color": "#2a3f5f"
           }
          },
          "ternary": {
           "aaxis": {
            "gridcolor": "white",
            "linecolor": "white",
            "ticks": ""
           },
           "baxis": {
            "gridcolor": "white",
            "linecolor": "white",
            "ticks": ""
           },
           "bgcolor": "#E5ECF6",
           "caxis": {
            "gridcolor": "white",
            "linecolor": "white",
            "ticks": ""
           }
          },
          "title": {
           "x": 0.05
          },
          "xaxis": {
           "automargin": true,
           "gridcolor": "white",
           "linecolor": "white",
           "ticks": "",
           "title": {
            "standoff": 15
           },
           "zerolinecolor": "white",
           "zerolinewidth": 2
          },
          "yaxis": {
           "automargin": true,
           "gridcolor": "white",
           "linecolor": "white",
           "ticks": "",
           "title": {
            "standoff": 15
           },
           "zerolinecolor": "white",
           "zerolinewidth": 2
          }
         }
        },
        "title": {
         "text": "Effect of no_of_stores_nearby on price"
        },
        "xaxis": {
         "anchor": "y",
         "domain": [
          0,
          1
         ],
         "title": {
          "text": "no_of_stores_nearby"
         }
        },
        "yaxis": {
         "anchor": "x",
         "domain": [
          0,
          1
         ],
         "title": {
          "text": "house_price_of_unit_area"
         }
        }
       }
      }
     },
     "metadata": {},
     "output_type": "display_data"
    }
   ],
   "source": [
    "px.scatter(house_df, x = 'no_of_stores_nearby', y = 'house_price_of_unit_area', title = 'Effect of no_of_stores_nearby on price')"
   ]
  },
  {
   "cell_type": "markdown",
   "metadata": {},
   "source": [
    "#### Conclusion : We can see the increase in bulk as the no. of shops nearby house increases"
   ]
  },
  {
   "cell_type": "markdown",
   "metadata": {},
   "source": [
    "### 4. Effect of latitude on price"
   ]
  },
  {
   "cell_type": "code",
   "execution_count": 14,
   "metadata": {},
   "outputs": [
    {
     "data": {
      "application/vnd.plotly.v1+json": {
       "config": {
        "plotlyServerURL": "https://plot.ly"
       },
       "data": [
        {
         "hovertemplate": "latitude=%{x}<br>house_price_of_unit_area=%{y}<extra></extra>",
         "legendgroup": "",
         "marker": {
          "color": "#636efa",
          "symbol": "circle"
         },
         "mode": "markers",
         "name": "",
         "orientation": "v",
         "showlegend": false,
         "type": "scatter",
         "x": [
          24.98298,
          24.98034,
          24.98746,
          24.98746,
          24.97937,
          24.96305,
          24.97933,
          24.98042,
          24.95095,
          24.96731,
          24.97349,
          24.97433,
          24.96515,
          24.96108,
          24.99156,
          24.9824,
          24.97744,
          24.97544,
          24.9675,
          24.96772,
          24.96314,
          24.97528,
          24.95204,
          24.97528,
          24.97353,
          24.97542,
          24.98085,
          24.95593,
          24.97419,
          24.97563,
          24.94826,
          24.98281,
          24.97349,
          24.97841,
          24.98419,
          25.01459,
          24.96386,
          24.95204,
          24.97201,
          24.98203,
          24.94155,
          24.94297,
          24.96305,
          24.98748,
          24.97445,
          24.97015,
          24.9703,
          24.97563,
          24.94684,
          24.94925,
          24.974,
          24.95402,
          24.97419,
          24.96515,
          24.98203,
          24.94968,
          24.97254,
          24.95744,
          24.94925,
          24.95776,
          24.96365,
          24.97585,
          24.96303,
          24.97445,
          24.96305,
          24.97635,
          24.96571,
          24.96674,
          24.97964,
          24.98746,
          24.97433,
          24.97563,
          24.97587,
          24.94155,
          24.98343,
          24.95204,
          24.97723,
          24.96322,
          24.97598,
          24.95182,
          24.97445,
          24.96427,
          24.96725,
          24.96056,
          24.96735,
          24.96853,
          24.9512,
          24.94297,
          24.98573,
          24.94783,
          24.9748,
          24.98569,
          24.96108,
          24.9492,
          24.9663,
          24.96674,
          24.97433,
          24.97746,
          24.98203,
          24.97433,
          24.98872,
          24.97371,
          24.96571,
          24.95618,
          24.96398,
          24.97744,
          24.97707,
          24.95204,
          24.9726,
          24.96299,
          24.96674,
          24.97701,
          24.96044,
          24.96172,
          24.98155,
          24.98092,
          24.94375,
          24.93885,
          24.96622,
          24.98203,
          24.96515,
          24.96515,
          24.98199,
          24.9711,
          24.97528,
          24.96571,
          24.97838,
          24.98085,
          24.96674,
          24.98086,
          24.98092,
          24.96299,
          24.97433,
          24.9866,
          24.96604,
          24.96357,
          24.97937,
          24.96495,
          24.97843,
          24.96515,
          24.98203,
          24.97213,
          24.97017,
          24.96515,
          24.95204,
          24.97563,
          24.9711,
          24.97017,
          24.93293,
          24.97349,
          24.96719,
          24.98118,
          24.95204,
          24.95418,
          24.94297,
          24.94155,
          24.94883,
          24.97886,
          24.97937,
          24.97886,
          24.95836,
          24.97723,
          24.94297,
          24.96674,
          24.9711,
          24.97694,
          24.97744,
          24.97408,
          24.96299,
          24.95468,
          24.94741,
          24.98085,
          24.97433,
          24.98326,
          24.9805,
          24.97005,
          24.94867,
          24.97697,
          24.99176,
          24.97493,
          24.94898,
          24.98489,
          24.96299,
          24.94155,
          24.95495,
          24.97285,
          24.96322,
          24.95464,
          24.97707,
          24.94297,
          24.97945,
          24.97371,
          24.9675,
          24.98246,
          24.93363,
          24.95425,
          24.981,
          24.96881,
          24.96628,
          24.96945,
          24.96305,
          24.98746,
          24.97559,
          24.98203,
          24.95182,
          24.97289,
          24.98343,
          24.97503,
          24.95204,
          24.97347,
          24.97937,
          24.9748,
          24.98672,
          24.97433,
          24.96731,
          24.972,
          24.97153,
          24.97838,
          24.96515,
          24.98102,
          24.97703,
          24.98569,
          24.98123,
          24.98569,
          24.97814,
          24.96571,
          24.94155,
          24.98059,
          25.00115,
          24.9489,
          24.96299,
          24.94235,
          24.95032,
          24.98016,
          24.96007,
          24.96606,
          24.98322,
          24.97668,
          24.97668,
          24.96334,
          24.96412,
          24.96606,
          24.96357,
          24.98236,
          24.97213,
          24.97258,
          24.96412,
          24.96211,
          24.96357,
          24.95743,
          24.97429,
          24.9496,
          24.97433,
          24.96464,
          24.98254,
          24.95095,
          24.97519,
          24.97501,
          24.97744,
          24.96334,
          24.97073,
          24.95885,
          24.98203,
          24.96299,
          24.96968,
          24.97886,
          24.96731,
          24.97433,
          24.97937,
          24.96334,
          24.9746,
          24.96945,
          24.96515,
          24.97371,
          24.97305,
          24.96772,
          24.95425,
          24.96322,
          24.95618,
          24.97026,
          24.96581,
          24.98118,
          24.9512,
          24.98674,
          24.96735,
          24.97509,
          24.97433,
          24.95425,
          24.97841,
          24.98203,
          24.97217,
          24.95744,
          24.95674,
          24.96735,
          24.9796,
          24.96299,
          24.99176,
          24.97003,
          24.94155,
          24.98178,
          24.96696,
          24.97229,
          24.95885,
          24.97161,
          24.96622,
          24.98203,
          24.97369,
          24.9546,
          24.98203,
          24.94883,
          24.95394,
          24.97425,
          24.97071,
          24.96674,
          24.97201,
          24.9832,
          24.96606,
          24.97795,
          24.98343,
          24.95562,
          24.93885,
          24.98872,
          24.97388,
          24.97631,
          24.96412,
          24.97015,
          24.95744,
          24.97538,
          24.97003,
          24.93885,
          24.94935,
          24.94826,
          24.97577,
          24.96674,
          24.99006,
          24.96431,
          24.98407,
          24.96871,
          24.96867,
          24.98254,
          24.97281,
          24.97371,
          24.97433,
          24.98223,
          24.998,
          24.9711,
          24.96412,
          24.95719,
          24.97585,
          24.96674,
          24.96515,
          24.96324,
          24.96143,
          24.96299,
          24.95204,
          24.98085,
          24.97417,
          24.96853,
          24.96571,
          24.95505,
          24.983,
          24.97345,
          24.98872,
          24.98182,
          24.97913,
          24.96182,
          24.95153,
          24.96464,
          24.97544,
          24.96322,
          24.98203,
          24.95591,
          24.96628,
          24.9748,
          24.97937,
          24.96165,
          24.96447,
          24.95836,
          24.97077,
          24.97744,
          24.98203,
          24.98298,
          24.93207,
          24.97845,
          24.94297,
          24.983,
          24.9711,
          24.96042,
          24.95957,
          24.96756,
          24.97151,
          24.95155,
          24.97927,
          24.98872,
          24.95544,
          24.974,
          24.97198,
          24.99156,
          24.96447,
          24.97371,
          24.97433,
          24.96305,
          24.97388,
          24.98353,
          24.98203,
          24.95663,
          24.97293,
          24.95505,
          24.9633,
          24.94155,
          24.97433,
          24.97923,
          24.96674,
          24.97433
         ],
         "xaxis": "x",
         "y": [
          37.9,
          42.2,
          47.3,
          54.8,
          43.1,
          32.1,
          40.3,
          46.7,
          18.8,
          22.1,
          41.4,
          58.1,
          39.3,
          23.8,
          34.3,
          50.5,
          70.1,
          37.4,
          42.3,
          47.7,
          29.3,
          51.6,
          24.6,
          47.9,
          38.8,
          27,
          56.2,
          33.6,
          47,
          57.1,
          22.1,
          25,
          34.2,
          49.3,
          55.1,
          27.3,
          22.9,
          25.3,
          47.7,
          46.2,
          15.9,
          18.2,
          34.7,
          34.1,
          53.9,
          38.3,
          42,
          61.5,
          13.4,
          13.2,
          44.2,
          20.7,
          27,
          38.9,
          51.7,
          13.7,
          41.9,
          53.5,
          22.6,
          42.4,
          21.3,
          63.2,
          27.7,
          55,
          25.3,
          44.3,
          50.7,
          56.8,
          36.2,
          42,
          59,
          40.8,
          36.3,
          20,
          54.4,
          29.5,
          36.8,
          25.6,
          29.8,
          26.5,
          40.3,
          36.8,
          48.1,
          17.7,
          43.7,
          50.8,
          27,
          18.3,
          48,
          25.3,
          45.4,
          43.2,
          21.8,
          16.1,
          41,
          51.8,
          59.5,
          34.6,
          51,
          62.2,
          38.2,
          32.9,
          54.4,
          45.7,
          30.5,
          71,
          47.1,
          26.6,
          34.1,
          28.4,
          51.6,
          39.4,
          23.1,
          7.6,
          53.3,
          46.4,
          12.2,
          13,
          30.6,
          59.6,
          31.3,
          48,
          32.5,
          45.5,
          57.4,
          48.6,
          62.9,
          55,
          60.7,
          41,
          37.5,
          30.7,
          37.5,
          39.5,
          42.2,
          20.8,
          46.8,
          47.4,
          43.5,
          42.5,
          51.4,
          28.9,
          37.5,
          40.1,
          28.4,
          45.5,
          52.2,
          43.2,
          45.1,
          39.7,
          48.5,
          44.7,
          28.9,
          40.9,
          20.7,
          15.6,
          18.3,
          35.6,
          39.4,
          37.4,
          57.8,
          39.6,
          11.6,
          55.5,
          55.2,
          30.6,
          73.6,
          43.4,
          37.4,
          23.5,
          14.4,
          58.8,
          58.1,
          35.1,
          45.2,
          36.5,
          19.2,
          42,
          36.7,
          42.6,
          15.5,
          55.9,
          23.6,
          18.8,
          21.8,
          21.5,
          25.7,
          22,
          44.3,
          20.5,
          42.3,
          37.8,
          42.7,
          49.3,
          29.3,
          34.6,
          36.6,
          48.2,
          39.1,
          31.6,
          25.5,
          45.9,
          31.5,
          46.1,
          26.6,
          21.4,
          44,
          34.2,
          26.2,
          40.9,
          52.2,
          43.5,
          31.1,
          58,
          20.9,
          48.1,
          39.7,
          40.8,
          43.8,
          40.2,
          78.3,
          38.5,
          48.5,
          42.3,
          46,
          49,
          12.8,
          40.2,
          46.6,
          19,
          33.4,
          14.7,
          17.4,
          32.4,
          23.9,
          39.3,
          61.9,
          39,
          40.6,
          29.7,
          28.8,
          41.4,
          33.4,
          48.2,
          21.7,
          40.8,
          40.6,
          23.1,
          22.3,
          15,
          30,
          13.8,
          52.7,
          25.9,
          51.8,
          17.4,
          26.5,
          43.9,
          63.3,
          28.8,
          30.7,
          24.4,
          53,
          31.7,
          40.6,
          38.1,
          23.7,
          41.1,
          40.1,
          23,
          117.5,
          26.5,
          40.5,
          29.3,
          41,
          49.7,
          34,
          27.7,
          44,
          31.1,
          45.4,
          44.8,
          25.6,
          23.5,
          34.4,
          55.3,
          56.3,
          32.9,
          51,
          44.5,
          37,
          54.4,
          24.5,
          42.5,
          38.1,
          21.8,
          34.1,
          28.5,
          16.7,
          46.1,
          36.9,
          35.7,
          23.2,
          38.4,
          29.4,
          55,
          50.2,
          24.7,
          53,
          19.1,
          24.7,
          42.2,
          78,
          42.8,
          41.6,
          27.3,
          42,
          37.5,
          49.8,
          26.9,
          18.6,
          37.7,
          33.1,
          42.5,
          31.3,
          38.1,
          62.1,
          36.7,
          23.6,
          19.2,
          12.8,
          15.6,
          39.6,
          38.4,
          22.8,
          36.5,
          35.6,
          30.9,
          36.3,
          50.4,
          42.9,
          37,
          53.5,
          46.6,
          41.2,
          37.9,
          30.8,
          11.2,
          53.7,
          47,
          42.3,
          28.6,
          25.7,
          31.3,
          30.1,
          60.7,
          45.3,
          44.9,
          45.1,
          24.7,
          47.1,
          63.3,
          40,
          48,
          33.1,
          29.5,
          24.8,
          20.9,
          43.1,
          22.8,
          42.1,
          51.7,
          41.5,
          52.2,
          49.5,
          23.8,
          30.5,
          56.8,
          37.4,
          69.7,
          53.3,
          47.3,
          29.3,
          40.3,
          12.9,
          46.6,
          55.3,
          25.6,
          27.3,
          67.7,
          38.6,
          31.3,
          35.3,
          40.3,
          24.7,
          42.5,
          31.9,
          32.2,
          23,
          37.3,
          35.5,
          27.7,
          28.5,
          39.7,
          41.2,
          37.2,
          40.5,
          22.3,
          28.1,
          15.4,
          50,
          40.6,
          52.5,
          63.9
         ],
         "yaxis": "y"
        }
       ],
       "layout": {
        "legend": {
         "tracegroupgap": 0
        },
        "template": {
         "data": {
          "bar": [
           {
            "error_x": {
             "color": "#2a3f5f"
            },
            "error_y": {
             "color": "#2a3f5f"
            },
            "marker": {
             "line": {
              "color": "#E5ECF6",
              "width": 0.5
             },
             "pattern": {
              "fillmode": "overlay",
              "size": 10,
              "solidity": 0.2
             }
            },
            "type": "bar"
           }
          ],
          "barpolar": [
           {
            "marker": {
             "line": {
              "color": "#E5ECF6",
              "width": 0.5
             },
             "pattern": {
              "fillmode": "overlay",
              "size": 10,
              "solidity": 0.2
             }
            },
            "type": "barpolar"
           }
          ],
          "carpet": [
           {
            "aaxis": {
             "endlinecolor": "#2a3f5f",
             "gridcolor": "white",
             "linecolor": "white",
             "minorgridcolor": "white",
             "startlinecolor": "#2a3f5f"
            },
            "baxis": {
             "endlinecolor": "#2a3f5f",
             "gridcolor": "white",
             "linecolor": "white",
             "minorgridcolor": "white",
             "startlinecolor": "#2a3f5f"
            },
            "type": "carpet"
           }
          ],
          "choropleth": [
           {
            "colorbar": {
             "outlinewidth": 0,
             "ticks": ""
            },
            "type": "choropleth"
           }
          ],
          "contour": [
           {
            "colorbar": {
             "outlinewidth": 0,
             "ticks": ""
            },
            "colorscale": [
             [
              0,
              "#0d0887"
             ],
             [
              0.1111111111111111,
              "#46039f"
             ],
             [
              0.2222222222222222,
              "#7201a8"
             ],
             [
              0.3333333333333333,
              "#9c179e"
             ],
             [
              0.4444444444444444,
              "#bd3786"
             ],
             [
              0.5555555555555556,
              "#d8576b"
             ],
             [
              0.6666666666666666,
              "#ed7953"
             ],
             [
              0.7777777777777778,
              "#fb9f3a"
             ],
             [
              0.8888888888888888,
              "#fdca26"
             ],
             [
              1,
              "#f0f921"
             ]
            ],
            "type": "contour"
           }
          ],
          "contourcarpet": [
           {
            "colorbar": {
             "outlinewidth": 0,
             "ticks": ""
            },
            "type": "contourcarpet"
           }
          ],
          "heatmap": [
           {
            "colorbar": {
             "outlinewidth": 0,
             "ticks": ""
            },
            "colorscale": [
             [
              0,
              "#0d0887"
             ],
             [
              0.1111111111111111,
              "#46039f"
             ],
             [
              0.2222222222222222,
              "#7201a8"
             ],
             [
              0.3333333333333333,
              "#9c179e"
             ],
             [
              0.4444444444444444,
              "#bd3786"
             ],
             [
              0.5555555555555556,
              "#d8576b"
             ],
             [
              0.6666666666666666,
              "#ed7953"
             ],
             [
              0.7777777777777778,
              "#fb9f3a"
             ],
             [
              0.8888888888888888,
              "#fdca26"
             ],
             [
              1,
              "#f0f921"
             ]
            ],
            "type": "heatmap"
           }
          ],
          "heatmapgl": [
           {
            "colorbar": {
             "outlinewidth": 0,
             "ticks": ""
            },
            "colorscale": [
             [
              0,
              "#0d0887"
             ],
             [
              0.1111111111111111,
              "#46039f"
             ],
             [
              0.2222222222222222,
              "#7201a8"
             ],
             [
              0.3333333333333333,
              "#9c179e"
             ],
             [
              0.4444444444444444,
              "#bd3786"
             ],
             [
              0.5555555555555556,
              "#d8576b"
             ],
             [
              0.6666666666666666,
              "#ed7953"
             ],
             [
              0.7777777777777778,
              "#fb9f3a"
             ],
             [
              0.8888888888888888,
              "#fdca26"
             ],
             [
              1,
              "#f0f921"
             ]
            ],
            "type": "heatmapgl"
           }
          ],
          "histogram": [
           {
            "marker": {
             "pattern": {
              "fillmode": "overlay",
              "size": 10,
              "solidity": 0.2
             }
            },
            "type": "histogram"
           }
          ],
          "histogram2d": [
           {
            "colorbar": {
             "outlinewidth": 0,
             "ticks": ""
            },
            "colorscale": [
             [
              0,
              "#0d0887"
             ],
             [
              0.1111111111111111,
              "#46039f"
             ],
             [
              0.2222222222222222,
              "#7201a8"
             ],
             [
              0.3333333333333333,
              "#9c179e"
             ],
             [
              0.4444444444444444,
              "#bd3786"
             ],
             [
              0.5555555555555556,
              "#d8576b"
             ],
             [
              0.6666666666666666,
              "#ed7953"
             ],
             [
              0.7777777777777778,
              "#fb9f3a"
             ],
             [
              0.8888888888888888,
              "#fdca26"
             ],
             [
              1,
              "#f0f921"
             ]
            ],
            "type": "histogram2d"
           }
          ],
          "histogram2dcontour": [
           {
            "colorbar": {
             "outlinewidth": 0,
             "ticks": ""
            },
            "colorscale": [
             [
              0,
              "#0d0887"
             ],
             [
              0.1111111111111111,
              "#46039f"
             ],
             [
              0.2222222222222222,
              "#7201a8"
             ],
             [
              0.3333333333333333,
              "#9c179e"
             ],
             [
              0.4444444444444444,
              "#bd3786"
             ],
             [
              0.5555555555555556,
              "#d8576b"
             ],
             [
              0.6666666666666666,
              "#ed7953"
             ],
             [
              0.7777777777777778,
              "#fb9f3a"
             ],
             [
              0.8888888888888888,
              "#fdca26"
             ],
             [
              1,
              "#f0f921"
             ]
            ],
            "type": "histogram2dcontour"
           }
          ],
          "mesh3d": [
           {
            "colorbar": {
             "outlinewidth": 0,
             "ticks": ""
            },
            "type": "mesh3d"
           }
          ],
          "parcoords": [
           {
            "line": {
             "colorbar": {
              "outlinewidth": 0,
              "ticks": ""
             }
            },
            "type": "parcoords"
           }
          ],
          "pie": [
           {
            "automargin": true,
            "type": "pie"
           }
          ],
          "scatter": [
           {
            "fillpattern": {
             "fillmode": "overlay",
             "size": 10,
             "solidity": 0.2
            },
            "type": "scatter"
           }
          ],
          "scatter3d": [
           {
            "line": {
             "colorbar": {
              "outlinewidth": 0,
              "ticks": ""
             }
            },
            "marker": {
             "colorbar": {
              "outlinewidth": 0,
              "ticks": ""
             }
            },
            "type": "scatter3d"
           }
          ],
          "scattercarpet": [
           {
            "marker": {
             "colorbar": {
              "outlinewidth": 0,
              "ticks": ""
             }
            },
            "type": "scattercarpet"
           }
          ],
          "scattergeo": [
           {
            "marker": {
             "colorbar": {
              "outlinewidth": 0,
              "ticks": ""
             }
            },
            "type": "scattergeo"
           }
          ],
          "scattergl": [
           {
            "marker": {
             "colorbar": {
              "outlinewidth": 0,
              "ticks": ""
             }
            },
            "type": "scattergl"
           }
          ],
          "scattermapbox": [
           {
            "marker": {
             "colorbar": {
              "outlinewidth": 0,
              "ticks": ""
             }
            },
            "type": "scattermapbox"
           }
          ],
          "scatterpolar": [
           {
            "marker": {
             "colorbar": {
              "outlinewidth": 0,
              "ticks": ""
             }
            },
            "type": "scatterpolar"
           }
          ],
          "scatterpolargl": [
           {
            "marker": {
             "colorbar": {
              "outlinewidth": 0,
              "ticks": ""
             }
            },
            "type": "scatterpolargl"
           }
          ],
          "scatterternary": [
           {
            "marker": {
             "colorbar": {
              "outlinewidth": 0,
              "ticks": ""
             }
            },
            "type": "scatterternary"
           }
          ],
          "surface": [
           {
            "colorbar": {
             "outlinewidth": 0,
             "ticks": ""
            },
            "colorscale": [
             [
              0,
              "#0d0887"
             ],
             [
              0.1111111111111111,
              "#46039f"
             ],
             [
              0.2222222222222222,
              "#7201a8"
             ],
             [
              0.3333333333333333,
              "#9c179e"
             ],
             [
              0.4444444444444444,
              "#bd3786"
             ],
             [
              0.5555555555555556,
              "#d8576b"
             ],
             [
              0.6666666666666666,
              "#ed7953"
             ],
             [
              0.7777777777777778,
              "#fb9f3a"
             ],
             [
              0.8888888888888888,
              "#fdca26"
             ],
             [
              1,
              "#f0f921"
             ]
            ],
            "type": "surface"
           }
          ],
          "table": [
           {
            "cells": {
             "fill": {
              "color": "#EBF0F8"
             },
             "line": {
              "color": "white"
             }
            },
            "header": {
             "fill": {
              "color": "#C8D4E3"
             },
             "line": {
              "color": "white"
             }
            },
            "type": "table"
           }
          ]
         },
         "layout": {
          "annotationdefaults": {
           "arrowcolor": "#2a3f5f",
           "arrowhead": 0,
           "arrowwidth": 1
          },
          "autotypenumbers": "strict",
          "coloraxis": {
           "colorbar": {
            "outlinewidth": 0,
            "ticks": ""
           }
          },
          "colorscale": {
           "diverging": [
            [
             0,
             "#8e0152"
            ],
            [
             0.1,
             "#c51b7d"
            ],
            [
             0.2,
             "#de77ae"
            ],
            [
             0.3,
             "#f1b6da"
            ],
            [
             0.4,
             "#fde0ef"
            ],
            [
             0.5,
             "#f7f7f7"
            ],
            [
             0.6,
             "#e6f5d0"
            ],
            [
             0.7,
             "#b8e186"
            ],
            [
             0.8,
             "#7fbc41"
            ],
            [
             0.9,
             "#4d9221"
            ],
            [
             1,
             "#276419"
            ]
           ],
           "sequential": [
            [
             0,
             "#0d0887"
            ],
            [
             0.1111111111111111,
             "#46039f"
            ],
            [
             0.2222222222222222,
             "#7201a8"
            ],
            [
             0.3333333333333333,
             "#9c179e"
            ],
            [
             0.4444444444444444,
             "#bd3786"
            ],
            [
             0.5555555555555556,
             "#d8576b"
            ],
            [
             0.6666666666666666,
             "#ed7953"
            ],
            [
             0.7777777777777778,
             "#fb9f3a"
            ],
            [
             0.8888888888888888,
             "#fdca26"
            ],
            [
             1,
             "#f0f921"
            ]
           ],
           "sequentialminus": [
            [
             0,
             "#0d0887"
            ],
            [
             0.1111111111111111,
             "#46039f"
            ],
            [
             0.2222222222222222,
             "#7201a8"
            ],
            [
             0.3333333333333333,
             "#9c179e"
            ],
            [
             0.4444444444444444,
             "#bd3786"
            ],
            [
             0.5555555555555556,
             "#d8576b"
            ],
            [
             0.6666666666666666,
             "#ed7953"
            ],
            [
             0.7777777777777778,
             "#fb9f3a"
            ],
            [
             0.8888888888888888,
             "#fdca26"
            ],
            [
             1,
             "#f0f921"
            ]
           ]
          },
          "colorway": [
           "#636efa",
           "#EF553B",
           "#00cc96",
           "#ab63fa",
           "#FFA15A",
           "#19d3f3",
           "#FF6692",
           "#B6E880",
           "#FF97FF",
           "#FECB52"
          ],
          "font": {
           "color": "#2a3f5f"
          },
          "geo": {
           "bgcolor": "white",
           "lakecolor": "white",
           "landcolor": "#E5ECF6",
           "showlakes": true,
           "showland": true,
           "subunitcolor": "white"
          },
          "hoverlabel": {
           "align": "left"
          },
          "hovermode": "closest",
          "mapbox": {
           "style": "light"
          },
          "paper_bgcolor": "white",
          "plot_bgcolor": "#E5ECF6",
          "polar": {
           "angularaxis": {
            "gridcolor": "white",
            "linecolor": "white",
            "ticks": ""
           },
           "bgcolor": "#E5ECF6",
           "radialaxis": {
            "gridcolor": "white",
            "linecolor": "white",
            "ticks": ""
           }
          },
          "scene": {
           "xaxis": {
            "backgroundcolor": "#E5ECF6",
            "gridcolor": "white",
            "gridwidth": 2,
            "linecolor": "white",
            "showbackground": true,
            "ticks": "",
            "zerolinecolor": "white"
           },
           "yaxis": {
            "backgroundcolor": "#E5ECF6",
            "gridcolor": "white",
            "gridwidth": 2,
            "linecolor": "white",
            "showbackground": true,
            "ticks": "",
            "zerolinecolor": "white"
           },
           "zaxis": {
            "backgroundcolor": "#E5ECF6",
            "gridcolor": "white",
            "gridwidth": 2,
            "linecolor": "white",
            "showbackground": true,
            "ticks": "",
            "zerolinecolor": "white"
           }
          },
          "shapedefaults": {
           "line": {
            "color": "#2a3f5f"
           }
          },
          "ternary": {
           "aaxis": {
            "gridcolor": "white",
            "linecolor": "white",
            "ticks": ""
           },
           "baxis": {
            "gridcolor": "white",
            "linecolor": "white",
            "ticks": ""
           },
           "bgcolor": "#E5ECF6",
           "caxis": {
            "gridcolor": "white",
            "linecolor": "white",
            "ticks": ""
           }
          },
          "title": {
           "x": 0.05
          },
          "xaxis": {
           "automargin": true,
           "gridcolor": "white",
           "linecolor": "white",
           "ticks": "",
           "title": {
            "standoff": 15
           },
           "zerolinecolor": "white",
           "zerolinewidth": 2
          },
          "yaxis": {
           "automargin": true,
           "gridcolor": "white",
           "linecolor": "white",
           "ticks": "",
           "title": {
            "standoff": 15
           },
           "zerolinecolor": "white",
           "zerolinewidth": 2
          }
         }
        },
        "title": {
         "text": "Effect of latitude on price"
        },
        "xaxis": {
         "anchor": "y",
         "domain": [
          0,
          1
         ],
         "title": {
          "text": "latitude"
         }
        },
        "yaxis": {
         "anchor": "x",
         "domain": [
          0,
          1
         ],
         "title": {
          "text": "house_price_of_unit_area"
         }
        }
       }
      }
     },
     "metadata": {},
     "output_type": "display_data"
    }
   ],
   "source": [
    "px.scatter(house_df, x = 'latitude', y = 'house_price_of_unit_area', title = 'Effect of latitude on price')"
   ]
  },
  {
   "cell_type": "markdown",
   "metadata": {},
   "source": [
    "#### Conclusion : As latitude increases, price increases slighty"
   ]
  },
  {
   "cell_type": "markdown",
   "metadata": {},
   "source": [
    "### 5. Effect of longitude on price"
   ]
  },
  {
   "cell_type": "code",
   "execution_count": 15,
   "metadata": {},
   "outputs": [
    {
     "data": {
      "application/vnd.plotly.v1+json": {
       "config": {
        "plotlyServerURL": "https://plot.ly"
       },
       "data": [
        {
         "hovertemplate": "longitude=%{x}<br>house_price_of_unit_area=%{y}<extra></extra>",
         "legendgroup": "",
         "marker": {
          "color": "#636efa",
          "symbol": "circle"
         },
         "mode": "markers",
         "name": "",
         "orientation": "v",
         "showlegend": false,
         "type": "scatter",
         "x": [
          121.54024,
          121.53951,
          121.54391,
          121.54391,
          121.54245,
          121.51254,
          121.53642,
          121.54228,
          121.48458,
          121.51486,
          121.53372,
          121.5431,
          121.53737,
          121.51046,
          121.53406,
          121.54619,
          121.54458,
          121.53119,
          121.54451,
          121.54102,
          121.51151,
          121.54541,
          121.54842,
          121.54541,
          121.53885,
          121.51726,
          121.54391,
          121.53913,
          121.53797,
          121.54694,
          121.49587,
          121.53408,
          121.53451,
          121.54281,
          121.54243,
          121.51816,
          121.51458,
          121.54842,
          121.54722,
          121.54348,
          121.50381,
          121.50342,
          121.53758,
          121.54301,
          121.54765,
          121.54494,
          121.54458,
          121.53715,
          121.49578,
          121.49542,
          121.53842,
          121.55282,
          121.5175,
          121.53737,
          121.54348,
          121.53009,
          121.54059,
          121.53711,
          121.49542,
          121.53438,
          121.51471,
          121.54516,
          121.51254,
          121.54765,
          121.54915,
          121.54329,
          121.54089,
          121.54067,
          121.53805,
          121.54391,
          121.5431,
          121.53715,
          121.53913,
          121.50381,
          121.53762,
          121.54842,
          121.53767,
          121.51237,
          121.53381,
          121.54887,
          121.54765,
          121.53964,
          121.54252,
          121.50831,
          121.54464,
          121.54413,
          121.549,
          121.50342,
          121.52758,
          121.50243,
          121.53059,
          121.5276,
          121.51046,
          121.53076,
          121.54026,
          121.54067,
          121.5431,
          121.53299,
          121.54348,
          121.5431,
          121.53411,
          121.52984,
          121.54089,
          121.53844,
          121.5425,
          121.54458,
          121.54308,
          121.54842,
          121.53561,
          121.51284,
          121.54067,
          121.54224,
          121.51462,
          121.53812,
          121.54142,
          121.54739,
          121.47883,
          121.50383,
          121.51709,
          121.54348,
          121.53737,
          121.53737,
          121.54464,
          121.5317,
          121.54541,
          121.54089,
          121.53477,
          121.54391,
          121.54039,
          121.54162,
          121.53653,
          121.51284,
          121.53863,
          121.54082,
          121.54211,
          121.54951,
          121.54245,
          121.54277,
          121.52406,
          121.53737,
          121.54348,
          121.51627,
          121.54647,
          121.53737,
          121.54842,
          121.54694,
          121.5317,
          121.54494,
          121.51203,
          121.54245,
          121.54269,
          121.53788,
          121.54842,
          121.53713,
          121.50342,
          121.50381,
          121.52954,
          121.53464,
          121.54245,
          121.53464,
          121.53756,
          121.53767,
          121.50342,
          121.54067,
          121.5317,
          121.55391,
          121.54458,
          121.54011,
          121.5432,
          121.55481,
          121.49628,
          121.54391,
          121.5431,
          121.5446,
          121.53778,
          121.53758,
          121.49507,
          121.54262,
          121.53456,
          121.5273,
          121.49621,
          121.54121,
          121.51284,
          121.50381,
          121.56174,
          121.5173,
          121.51237,
          121.56627,
          121.54312,
          121.50342,
          121.53642,
          121.54951,
          121.54069,
          121.54477,
          121.51158,
          121.5399,
          121.54713,
          121.54089,
          121.54196,
          121.5449,
          121.54915,
          121.54391,
          121.53713,
          121.54348,
          121.54887,
          121.51728,
          121.53762,
          121.53692,
          121.54842,
          121.54271,
          121.54245,
          121.53059,
          121.52091,
          121.5431,
          121.51486,
          121.54477,
          121.53559,
          121.54119,
          121.53737,
          121.53655,
          121.54265,
          121.5276,
          121.53743,
          121.5276,
          121.5417,
          121.54089,
          121.50381,
          121.53986,
          121.51776,
          121.53095,
          121.51284,
          121.50357,
          121.49587,
          121.53932,
          121.51361,
          121.54297,
          121.53765,
          121.52518,
          121.52518,
          121.54767,
          121.5167,
          121.54297,
          121.51329,
          121.53923,
          121.51627,
          121.54814,
          121.54273,
          121.54928,
          121.54951,
          121.47516,
          121.53917,
          121.53018,
          121.5431,
          121.51623,
          121.54395,
          121.48458,
          121.53151,
          121.5273,
          121.54458,
          121.54767,
          121.517,
          121.51359,
          121.54348,
          121.51284,
          121.54522,
          121.53464,
          121.51486,
          121.53863,
          121.54245,
          121.54767,
          121.53046,
          121.5449,
          121.53737,
          121.52984,
          121.53994,
          121.54102,
          121.5399,
          121.51237,
          121.53844,
          121.51642,
          121.54086,
          121.53788,
          121.549,
          121.51844,
          121.54464,
          121.53644,
          121.5431,
          121.5399,
          121.5428,
          121.54348,
          121.53471,
          121.53711,
          121.534,
          121.54464,
          121.5414,
          121.51252,
          121.53456,
          121.5458,
          121.50381,
          121.54059,
          121.53992,
          121.53445,
          121.51359,
          121.53423,
          121.51668,
          121.54348,
          121.52979,
          121.56627,
          121.54348,
          121.52954,
          121.55174,
          121.53814,
          121.54069,
          121.54067,
          121.54722,
          121.51812,
          121.54297,
          121.53451,
          121.53762,
          121.53872,
          121.50383,
          121.53411,
          121.52981,
          121.54436,
          121.5167,
          121.54494,
          121.53711,
          121.54971,
          121.51696,
          121.50383,
          121.53046,
          121.49587,
          121.53475,
          121.54067,
          121.5346,
          121.54063,
          121.51748,
          121.54651,
          121.54331,
          121.54395,
          121.53265,
          121.54951,
          121.5431,
          121.53597,
          121.5155,
          121.5317,
          121.5167,
          121.47353,
          121.54516,
          121.54067,
          121.53737,
          121.51241,
          121.50827,
          121.51284,
          121.54842,
          121.54391,
          121.52999,
          121.54413,
          121.54089,
          121.55964,
          121.54022,
          121.54093,
          121.53408,
          121.54086,
          121.53666,
          121.51222,
          121.55254,
          121.51531,
          121.53119,
          121.51237,
          121.54348,
          121.53956,
          121.54196,
          121.53059,
          121.54245,
          121.55011,
          121.51649,
          121.53756,
          121.54634,
          121.54458,
          121.54348,
          121.53981,
          121.51597,
          121.53889,
          121.50342,
          121.54026,
          121.5317,
          121.51462,
          121.51353,
          121.5423,
          121.5435,
          121.55387,
          121.53874,
          121.53408,
          121.4963,
          121.53842,
          121.55063,
          121.53406,
          121.51649,
          121.52984,
          121.53863,
          121.51254,
          121.52981,
          121.53966,
          121.54348,
          121.53765,
          121.54026,
          121.55964,
          121.51243,
          121.50381,
          121.5431,
          121.53986,
          121.54067,
          121.5431
         ],
         "xaxis": "x",
         "y": [
          37.9,
          42.2,
          47.3,
          54.8,
          43.1,
          32.1,
          40.3,
          46.7,
          18.8,
          22.1,
          41.4,
          58.1,
          39.3,
          23.8,
          34.3,
          50.5,
          70.1,
          37.4,
          42.3,
          47.7,
          29.3,
          51.6,
          24.6,
          47.9,
          38.8,
          27,
          56.2,
          33.6,
          47,
          57.1,
          22.1,
          25,
          34.2,
          49.3,
          55.1,
          27.3,
          22.9,
          25.3,
          47.7,
          46.2,
          15.9,
          18.2,
          34.7,
          34.1,
          53.9,
          38.3,
          42,
          61.5,
          13.4,
          13.2,
          44.2,
          20.7,
          27,
          38.9,
          51.7,
          13.7,
          41.9,
          53.5,
          22.6,
          42.4,
          21.3,
          63.2,
          27.7,
          55,
          25.3,
          44.3,
          50.7,
          56.8,
          36.2,
          42,
          59,
          40.8,
          36.3,
          20,
          54.4,
          29.5,
          36.8,
          25.6,
          29.8,
          26.5,
          40.3,
          36.8,
          48.1,
          17.7,
          43.7,
          50.8,
          27,
          18.3,
          48,
          25.3,
          45.4,
          43.2,
          21.8,
          16.1,
          41,
          51.8,
          59.5,
          34.6,
          51,
          62.2,
          38.2,
          32.9,
          54.4,
          45.7,
          30.5,
          71,
          47.1,
          26.6,
          34.1,
          28.4,
          51.6,
          39.4,
          23.1,
          7.6,
          53.3,
          46.4,
          12.2,
          13,
          30.6,
          59.6,
          31.3,
          48,
          32.5,
          45.5,
          57.4,
          48.6,
          62.9,
          55,
          60.7,
          41,
          37.5,
          30.7,
          37.5,
          39.5,
          42.2,
          20.8,
          46.8,
          47.4,
          43.5,
          42.5,
          51.4,
          28.9,
          37.5,
          40.1,
          28.4,
          45.5,
          52.2,
          43.2,
          45.1,
          39.7,
          48.5,
          44.7,
          28.9,
          40.9,
          20.7,
          15.6,
          18.3,
          35.6,
          39.4,
          37.4,
          57.8,
          39.6,
          11.6,
          55.5,
          55.2,
          30.6,
          73.6,
          43.4,
          37.4,
          23.5,
          14.4,
          58.8,
          58.1,
          35.1,
          45.2,
          36.5,
          19.2,
          42,
          36.7,
          42.6,
          15.5,
          55.9,
          23.6,
          18.8,
          21.8,
          21.5,
          25.7,
          22,
          44.3,
          20.5,
          42.3,
          37.8,
          42.7,
          49.3,
          29.3,
          34.6,
          36.6,
          48.2,
          39.1,
          31.6,
          25.5,
          45.9,
          31.5,
          46.1,
          26.6,
          21.4,
          44,
          34.2,
          26.2,
          40.9,
          52.2,
          43.5,
          31.1,
          58,
          20.9,
          48.1,
          39.7,
          40.8,
          43.8,
          40.2,
          78.3,
          38.5,
          48.5,
          42.3,
          46,
          49,
          12.8,
          40.2,
          46.6,
          19,
          33.4,
          14.7,
          17.4,
          32.4,
          23.9,
          39.3,
          61.9,
          39,
          40.6,
          29.7,
          28.8,
          41.4,
          33.4,
          48.2,
          21.7,
          40.8,
          40.6,
          23.1,
          22.3,
          15,
          30,
          13.8,
          52.7,
          25.9,
          51.8,
          17.4,
          26.5,
          43.9,
          63.3,
          28.8,
          30.7,
          24.4,
          53,
          31.7,
          40.6,
          38.1,
          23.7,
          41.1,
          40.1,
          23,
          117.5,
          26.5,
          40.5,
          29.3,
          41,
          49.7,
          34,
          27.7,
          44,
          31.1,
          45.4,
          44.8,
          25.6,
          23.5,
          34.4,
          55.3,
          56.3,
          32.9,
          51,
          44.5,
          37,
          54.4,
          24.5,
          42.5,
          38.1,
          21.8,
          34.1,
          28.5,
          16.7,
          46.1,
          36.9,
          35.7,
          23.2,
          38.4,
          29.4,
          55,
          50.2,
          24.7,
          53,
          19.1,
          24.7,
          42.2,
          78,
          42.8,
          41.6,
          27.3,
          42,
          37.5,
          49.8,
          26.9,
          18.6,
          37.7,
          33.1,
          42.5,
          31.3,
          38.1,
          62.1,
          36.7,
          23.6,
          19.2,
          12.8,
          15.6,
          39.6,
          38.4,
          22.8,
          36.5,
          35.6,
          30.9,
          36.3,
          50.4,
          42.9,
          37,
          53.5,
          46.6,
          41.2,
          37.9,
          30.8,
          11.2,
          53.7,
          47,
          42.3,
          28.6,
          25.7,
          31.3,
          30.1,
          60.7,
          45.3,
          44.9,
          45.1,
          24.7,
          47.1,
          63.3,
          40,
          48,
          33.1,
          29.5,
          24.8,
          20.9,
          43.1,
          22.8,
          42.1,
          51.7,
          41.5,
          52.2,
          49.5,
          23.8,
          30.5,
          56.8,
          37.4,
          69.7,
          53.3,
          47.3,
          29.3,
          40.3,
          12.9,
          46.6,
          55.3,
          25.6,
          27.3,
          67.7,
          38.6,
          31.3,
          35.3,
          40.3,
          24.7,
          42.5,
          31.9,
          32.2,
          23,
          37.3,
          35.5,
          27.7,
          28.5,
          39.7,
          41.2,
          37.2,
          40.5,
          22.3,
          28.1,
          15.4,
          50,
          40.6,
          52.5,
          63.9
         ],
         "yaxis": "y"
        }
       ],
       "layout": {
        "legend": {
         "tracegroupgap": 0
        },
        "template": {
         "data": {
          "bar": [
           {
            "error_x": {
             "color": "#2a3f5f"
            },
            "error_y": {
             "color": "#2a3f5f"
            },
            "marker": {
             "line": {
              "color": "#E5ECF6",
              "width": 0.5
             },
             "pattern": {
              "fillmode": "overlay",
              "size": 10,
              "solidity": 0.2
             }
            },
            "type": "bar"
           }
          ],
          "barpolar": [
           {
            "marker": {
             "line": {
              "color": "#E5ECF6",
              "width": 0.5
             },
             "pattern": {
              "fillmode": "overlay",
              "size": 10,
              "solidity": 0.2
             }
            },
            "type": "barpolar"
           }
          ],
          "carpet": [
           {
            "aaxis": {
             "endlinecolor": "#2a3f5f",
             "gridcolor": "white",
             "linecolor": "white",
             "minorgridcolor": "white",
             "startlinecolor": "#2a3f5f"
            },
            "baxis": {
             "endlinecolor": "#2a3f5f",
             "gridcolor": "white",
             "linecolor": "white",
             "minorgridcolor": "white",
             "startlinecolor": "#2a3f5f"
            },
            "type": "carpet"
           }
          ],
          "choropleth": [
           {
            "colorbar": {
             "outlinewidth": 0,
             "ticks": ""
            },
            "type": "choropleth"
           }
          ],
          "contour": [
           {
            "colorbar": {
             "outlinewidth": 0,
             "ticks": ""
            },
            "colorscale": [
             [
              0,
              "#0d0887"
             ],
             [
              0.1111111111111111,
              "#46039f"
             ],
             [
              0.2222222222222222,
              "#7201a8"
             ],
             [
              0.3333333333333333,
              "#9c179e"
             ],
             [
              0.4444444444444444,
              "#bd3786"
             ],
             [
              0.5555555555555556,
              "#d8576b"
             ],
             [
              0.6666666666666666,
              "#ed7953"
             ],
             [
              0.7777777777777778,
              "#fb9f3a"
             ],
             [
              0.8888888888888888,
              "#fdca26"
             ],
             [
              1,
              "#f0f921"
             ]
            ],
            "type": "contour"
           }
          ],
          "contourcarpet": [
           {
            "colorbar": {
             "outlinewidth": 0,
             "ticks": ""
            },
            "type": "contourcarpet"
           }
          ],
          "heatmap": [
           {
            "colorbar": {
             "outlinewidth": 0,
             "ticks": ""
            },
            "colorscale": [
             [
              0,
              "#0d0887"
             ],
             [
              0.1111111111111111,
              "#46039f"
             ],
             [
              0.2222222222222222,
              "#7201a8"
             ],
             [
              0.3333333333333333,
              "#9c179e"
             ],
             [
              0.4444444444444444,
              "#bd3786"
             ],
             [
              0.5555555555555556,
              "#d8576b"
             ],
             [
              0.6666666666666666,
              "#ed7953"
             ],
             [
              0.7777777777777778,
              "#fb9f3a"
             ],
             [
              0.8888888888888888,
              "#fdca26"
             ],
             [
              1,
              "#f0f921"
             ]
            ],
            "type": "heatmap"
           }
          ],
          "heatmapgl": [
           {
            "colorbar": {
             "outlinewidth": 0,
             "ticks": ""
            },
            "colorscale": [
             [
              0,
              "#0d0887"
             ],
             [
              0.1111111111111111,
              "#46039f"
             ],
             [
              0.2222222222222222,
              "#7201a8"
             ],
             [
              0.3333333333333333,
              "#9c179e"
             ],
             [
              0.4444444444444444,
              "#bd3786"
             ],
             [
              0.5555555555555556,
              "#d8576b"
             ],
             [
              0.6666666666666666,
              "#ed7953"
             ],
             [
              0.7777777777777778,
              "#fb9f3a"
             ],
             [
              0.8888888888888888,
              "#fdca26"
             ],
             [
              1,
              "#f0f921"
             ]
            ],
            "type": "heatmapgl"
           }
          ],
          "histogram": [
           {
            "marker": {
             "pattern": {
              "fillmode": "overlay",
              "size": 10,
              "solidity": 0.2
             }
            },
            "type": "histogram"
           }
          ],
          "histogram2d": [
           {
            "colorbar": {
             "outlinewidth": 0,
             "ticks": ""
            },
            "colorscale": [
             [
              0,
              "#0d0887"
             ],
             [
              0.1111111111111111,
              "#46039f"
             ],
             [
              0.2222222222222222,
              "#7201a8"
             ],
             [
              0.3333333333333333,
              "#9c179e"
             ],
             [
              0.4444444444444444,
              "#bd3786"
             ],
             [
              0.5555555555555556,
              "#d8576b"
             ],
             [
              0.6666666666666666,
              "#ed7953"
             ],
             [
              0.7777777777777778,
              "#fb9f3a"
             ],
             [
              0.8888888888888888,
              "#fdca26"
             ],
             [
              1,
              "#f0f921"
             ]
            ],
            "type": "histogram2d"
           }
          ],
          "histogram2dcontour": [
           {
            "colorbar": {
             "outlinewidth": 0,
             "ticks": ""
            },
            "colorscale": [
             [
              0,
              "#0d0887"
             ],
             [
              0.1111111111111111,
              "#46039f"
             ],
             [
              0.2222222222222222,
              "#7201a8"
             ],
             [
              0.3333333333333333,
              "#9c179e"
             ],
             [
              0.4444444444444444,
              "#bd3786"
             ],
             [
              0.5555555555555556,
              "#d8576b"
             ],
             [
              0.6666666666666666,
              "#ed7953"
             ],
             [
              0.7777777777777778,
              "#fb9f3a"
             ],
             [
              0.8888888888888888,
              "#fdca26"
             ],
             [
              1,
              "#f0f921"
             ]
            ],
            "type": "histogram2dcontour"
           }
          ],
          "mesh3d": [
           {
            "colorbar": {
             "outlinewidth": 0,
             "ticks": ""
            },
            "type": "mesh3d"
           }
          ],
          "parcoords": [
           {
            "line": {
             "colorbar": {
              "outlinewidth": 0,
              "ticks": ""
             }
            },
            "type": "parcoords"
           }
          ],
          "pie": [
           {
            "automargin": true,
            "type": "pie"
           }
          ],
          "scatter": [
           {
            "fillpattern": {
             "fillmode": "overlay",
             "size": 10,
             "solidity": 0.2
            },
            "type": "scatter"
           }
          ],
          "scatter3d": [
           {
            "line": {
             "colorbar": {
              "outlinewidth": 0,
              "ticks": ""
             }
            },
            "marker": {
             "colorbar": {
              "outlinewidth": 0,
              "ticks": ""
             }
            },
            "type": "scatter3d"
           }
          ],
          "scattercarpet": [
           {
            "marker": {
             "colorbar": {
              "outlinewidth": 0,
              "ticks": ""
             }
            },
            "type": "scattercarpet"
           }
          ],
          "scattergeo": [
           {
            "marker": {
             "colorbar": {
              "outlinewidth": 0,
              "ticks": ""
             }
            },
            "type": "scattergeo"
           }
          ],
          "scattergl": [
           {
            "marker": {
             "colorbar": {
              "outlinewidth": 0,
              "ticks": ""
             }
            },
            "type": "scattergl"
           }
          ],
          "scattermapbox": [
           {
            "marker": {
             "colorbar": {
              "outlinewidth": 0,
              "ticks": ""
             }
            },
            "type": "scattermapbox"
           }
          ],
          "scatterpolar": [
           {
            "marker": {
             "colorbar": {
              "outlinewidth": 0,
              "ticks": ""
             }
            },
            "type": "scatterpolar"
           }
          ],
          "scatterpolargl": [
           {
            "marker": {
             "colorbar": {
              "outlinewidth": 0,
              "ticks": ""
             }
            },
            "type": "scatterpolargl"
           }
          ],
          "scatterternary": [
           {
            "marker": {
             "colorbar": {
              "outlinewidth": 0,
              "ticks": ""
             }
            },
            "type": "scatterternary"
           }
          ],
          "surface": [
           {
            "colorbar": {
             "outlinewidth": 0,
             "ticks": ""
            },
            "colorscale": [
             [
              0,
              "#0d0887"
             ],
             [
              0.1111111111111111,
              "#46039f"
             ],
             [
              0.2222222222222222,
              "#7201a8"
             ],
             [
              0.3333333333333333,
              "#9c179e"
             ],
             [
              0.4444444444444444,
              "#bd3786"
             ],
             [
              0.5555555555555556,
              "#d8576b"
             ],
             [
              0.6666666666666666,
              "#ed7953"
             ],
             [
              0.7777777777777778,
              "#fb9f3a"
             ],
             [
              0.8888888888888888,
              "#fdca26"
             ],
             [
              1,
              "#f0f921"
             ]
            ],
            "type": "surface"
           }
          ],
          "table": [
           {
            "cells": {
             "fill": {
              "color": "#EBF0F8"
             },
             "line": {
              "color": "white"
             }
            },
            "header": {
             "fill": {
              "color": "#C8D4E3"
             },
             "line": {
              "color": "white"
             }
            },
            "type": "table"
           }
          ]
         },
         "layout": {
          "annotationdefaults": {
           "arrowcolor": "#2a3f5f",
           "arrowhead": 0,
           "arrowwidth": 1
          },
          "autotypenumbers": "strict",
          "coloraxis": {
           "colorbar": {
            "outlinewidth": 0,
            "ticks": ""
           }
          },
          "colorscale": {
           "diverging": [
            [
             0,
             "#8e0152"
            ],
            [
             0.1,
             "#c51b7d"
            ],
            [
             0.2,
             "#de77ae"
            ],
            [
             0.3,
             "#f1b6da"
            ],
            [
             0.4,
             "#fde0ef"
            ],
            [
             0.5,
             "#f7f7f7"
            ],
            [
             0.6,
             "#e6f5d0"
            ],
            [
             0.7,
             "#b8e186"
            ],
            [
             0.8,
             "#7fbc41"
            ],
            [
             0.9,
             "#4d9221"
            ],
            [
             1,
             "#276419"
            ]
           ],
           "sequential": [
            [
             0,
             "#0d0887"
            ],
            [
             0.1111111111111111,
             "#46039f"
            ],
            [
             0.2222222222222222,
             "#7201a8"
            ],
            [
             0.3333333333333333,
             "#9c179e"
            ],
            [
             0.4444444444444444,
             "#bd3786"
            ],
            [
             0.5555555555555556,
             "#d8576b"
            ],
            [
             0.6666666666666666,
             "#ed7953"
            ],
            [
             0.7777777777777778,
             "#fb9f3a"
            ],
            [
             0.8888888888888888,
             "#fdca26"
            ],
            [
             1,
             "#f0f921"
            ]
           ],
           "sequentialminus": [
            [
             0,
             "#0d0887"
            ],
            [
             0.1111111111111111,
             "#46039f"
            ],
            [
             0.2222222222222222,
             "#7201a8"
            ],
            [
             0.3333333333333333,
             "#9c179e"
            ],
            [
             0.4444444444444444,
             "#bd3786"
            ],
            [
             0.5555555555555556,
             "#d8576b"
            ],
            [
             0.6666666666666666,
             "#ed7953"
            ],
            [
             0.7777777777777778,
             "#fb9f3a"
            ],
            [
             0.8888888888888888,
             "#fdca26"
            ],
            [
             1,
             "#f0f921"
            ]
           ]
          },
          "colorway": [
           "#636efa",
           "#EF553B",
           "#00cc96",
           "#ab63fa",
           "#FFA15A",
           "#19d3f3",
           "#FF6692",
           "#B6E880",
           "#FF97FF",
           "#FECB52"
          ],
          "font": {
           "color": "#2a3f5f"
          },
          "geo": {
           "bgcolor": "white",
           "lakecolor": "white",
           "landcolor": "#E5ECF6",
           "showlakes": true,
           "showland": true,
           "subunitcolor": "white"
          },
          "hoverlabel": {
           "align": "left"
          },
          "hovermode": "closest",
          "mapbox": {
           "style": "light"
          },
          "paper_bgcolor": "white",
          "plot_bgcolor": "#E5ECF6",
          "polar": {
           "angularaxis": {
            "gridcolor": "white",
            "linecolor": "white",
            "ticks": ""
           },
           "bgcolor": "#E5ECF6",
           "radialaxis": {
            "gridcolor": "white",
            "linecolor": "white",
            "ticks": ""
           }
          },
          "scene": {
           "xaxis": {
            "backgroundcolor": "#E5ECF6",
            "gridcolor": "white",
            "gridwidth": 2,
            "linecolor": "white",
            "showbackground": true,
            "ticks": "",
            "zerolinecolor": "white"
           },
           "yaxis": {
            "backgroundcolor": "#E5ECF6",
            "gridcolor": "white",
            "gridwidth": 2,
            "linecolor": "white",
            "showbackground": true,
            "ticks": "",
            "zerolinecolor": "white"
           },
           "zaxis": {
            "backgroundcolor": "#E5ECF6",
            "gridcolor": "white",
            "gridwidth": 2,
            "linecolor": "white",
            "showbackground": true,
            "ticks": "",
            "zerolinecolor": "white"
           }
          },
          "shapedefaults": {
           "line": {
            "color": "#2a3f5f"
           }
          },
          "ternary": {
           "aaxis": {
            "gridcolor": "white",
            "linecolor": "white",
            "ticks": ""
           },
           "baxis": {
            "gridcolor": "white",
            "linecolor": "white",
            "ticks": ""
           },
           "bgcolor": "#E5ECF6",
           "caxis": {
            "gridcolor": "white",
            "linecolor": "white",
            "ticks": ""
           }
          },
          "title": {
           "x": 0.05
          },
          "xaxis": {
           "automargin": true,
           "gridcolor": "white",
           "linecolor": "white",
           "ticks": "",
           "title": {
            "standoff": 15
           },
           "zerolinecolor": "white",
           "zerolinewidth": 2
          },
          "yaxis": {
           "automargin": true,
           "gridcolor": "white",
           "linecolor": "white",
           "ticks": "",
           "title": {
            "standoff": 15
           },
           "zerolinecolor": "white",
           "zerolinewidth": 2
          }
         }
        },
        "title": {
         "text": "Effect of longitude on price"
        },
        "xaxis": {
         "anchor": "y",
         "domain": [
          0,
          1
         ],
         "title": {
          "text": "longitude"
         }
        },
        "yaxis": {
         "anchor": "x",
         "domain": [
          0,
          1
         ],
         "title": {
          "text": "house_price_of_unit_area"
         }
        }
       }
      }
     },
     "metadata": {},
     "output_type": "display_data"
    }
   ],
   "source": [
    "px.scatter(house_df, x = 'longitude', y = 'house_price_of_unit_area', title = 'Effect of longitude on price')"
   ]
  },
  {
   "cell_type": "markdown",
   "metadata": {},
   "source": [
    "#### Conclusion : As longitude increases, price increases slighty"
   ]
  },
  {
   "cell_type": "markdown",
   "metadata": {},
   "source": [
    "### 6. Effect of year on price"
   ]
  },
  {
   "cell_type": "code",
   "execution_count": null,
   "metadata": {},
   "outputs": [],
   "source": [
    "plt.title('Effect of years on price')\n",
    "sns.barplot(x = 'transaction_year', y = 'house_price_of_unit_area', data = house_df, color = 'slateblue')"
   ]
  },
  {
   "cell_type": "markdown",
   "metadata": {},
   "source": [
    "#### Conclusion : Year doesn't have a noticable effect on price"
   ]
  },
  {
   "cell_type": "code",
   "execution_count": 26,
   "metadata": {},
   "outputs": [],
   "source": [
    "X = house_df[['house_age', 'nearest_mrt_station', 'no_of_stores_nearby', 'latitude', 'longitude']]\n",
    "y = house_df['house_price_of_unit_area']"
   ]
  },
  {
   "cell_type": "code",
   "execution_count": 27,
   "metadata": {},
   "outputs": [],
   "source": [
    "X_train, X_test, y_train, y_test = train_test_split(X, y, test_size = 0.1, random_state = 42)"
   ]
  },
  {
   "cell_type": "code",
   "execution_count": 28,
   "metadata": {},
   "outputs": [
    {
     "data": {
      "text/plain": [
       "(42, 5)"
      ]
     },
     "execution_count": 28,
     "metadata": {},
     "output_type": "execute_result"
    }
   ],
   "source": [
    "X_test.shape"
   ]
  },
  {
   "cell_type": "markdown",
   "metadata": {},
   "source": [
    "### model training "
   ]
  },
  {
   "cell_type": "code",
   "execution_count": 29,
   "metadata": {},
   "outputs": [],
   "source": [
    "model = LinearRegression()"
   ]
  },
  {
   "cell_type": "code",
   "execution_count": 30,
   "metadata": {},
   "outputs": [
    {
     "data": {
      "text/html": [
       "<style>#sk-container-id-1 {\n",
       "  /* Definition of color scheme common for light and dark mode */\n",
       "  --sklearn-color-text: black;\n",
       "  --sklearn-color-line: gray;\n",
       "  /* Definition of color scheme for unfitted estimators */\n",
       "  --sklearn-color-unfitted-level-0: #fff5e6;\n",
       "  --sklearn-color-unfitted-level-1: #f6e4d2;\n",
       "  --sklearn-color-unfitted-level-2: #ffe0b3;\n",
       "  --sklearn-color-unfitted-level-3: chocolate;\n",
       "  /* Definition of color scheme for fitted estimators */\n",
       "  --sklearn-color-fitted-level-0: #f0f8ff;\n",
       "  --sklearn-color-fitted-level-1: #d4ebff;\n",
       "  --sklearn-color-fitted-level-2: #b3dbfd;\n",
       "  --sklearn-color-fitted-level-3: cornflowerblue;\n",
       "\n",
       "  /* Specific color for light theme */\n",
       "  --sklearn-color-text-on-default-background: var(--sg-text-color, var(--theme-code-foreground, var(--jp-content-font-color1, black)));\n",
       "  --sklearn-color-background: var(--sg-background-color, var(--theme-background, var(--jp-layout-color0, white)));\n",
       "  --sklearn-color-border-box: var(--sg-text-color, var(--theme-code-foreground, var(--jp-content-font-color1, black)));\n",
       "  --sklearn-color-icon: #696969;\n",
       "\n",
       "  @media (prefers-color-scheme: dark) {\n",
       "    /* Redefinition of color scheme for dark theme */\n",
       "    --sklearn-color-text-on-default-background: var(--sg-text-color, var(--theme-code-foreground, var(--jp-content-font-color1, white)));\n",
       "    --sklearn-color-background: var(--sg-background-color, var(--theme-background, var(--jp-layout-color0, #111)));\n",
       "    --sklearn-color-border-box: var(--sg-text-color, var(--theme-code-foreground, var(--jp-content-font-color1, white)));\n",
       "    --sklearn-color-icon: #878787;\n",
       "  }\n",
       "}\n",
       "\n",
       "#sk-container-id-1 {\n",
       "  color: var(--sklearn-color-text);\n",
       "}\n",
       "\n",
       "#sk-container-id-1 pre {\n",
       "  padding: 0;\n",
       "}\n",
       "\n",
       "#sk-container-id-1 input.sk-hidden--visually {\n",
       "  border: 0;\n",
       "  clip: rect(1px 1px 1px 1px);\n",
       "  clip: rect(1px, 1px, 1px, 1px);\n",
       "  height: 1px;\n",
       "  margin: -1px;\n",
       "  overflow: hidden;\n",
       "  padding: 0;\n",
       "  position: absolute;\n",
       "  width: 1px;\n",
       "}\n",
       "\n",
       "#sk-container-id-1 div.sk-dashed-wrapped {\n",
       "  border: 1px dashed var(--sklearn-color-line);\n",
       "  margin: 0 0.4em 0.5em 0.4em;\n",
       "  box-sizing: border-box;\n",
       "  padding-bottom: 0.4em;\n",
       "  background-color: var(--sklearn-color-background);\n",
       "}\n",
       "\n",
       "#sk-container-id-1 div.sk-container {\n",
       "  /* jupyter's `normalize.less` sets `[hidden] { display: none; }`\n",
       "     but bootstrap.min.css set `[hidden] { display: none !important; }`\n",
       "     so we also need the `!important` here to be able to override the\n",
       "     default hidden behavior on the sphinx rendered scikit-learn.org.\n",
       "     See: https://github.com/scikit-learn/scikit-learn/issues/21755 */\n",
       "  display: inline-block !important;\n",
       "  position: relative;\n",
       "}\n",
       "\n",
       "#sk-container-id-1 div.sk-text-repr-fallback {\n",
       "  display: none;\n",
       "}\n",
       "\n",
       "div.sk-parallel-item,\n",
       "div.sk-serial,\n",
       "div.sk-item {\n",
       "  /* draw centered vertical line to link estimators */\n",
       "  background-image: linear-gradient(var(--sklearn-color-text-on-default-background), var(--sklearn-color-text-on-default-background));\n",
       "  background-size: 2px 100%;\n",
       "  background-repeat: no-repeat;\n",
       "  background-position: center center;\n",
       "}\n",
       "\n",
       "/* Parallel-specific style estimator block */\n",
       "\n",
       "#sk-container-id-1 div.sk-parallel-item::after {\n",
       "  content: \"\";\n",
       "  width: 100%;\n",
       "  border-bottom: 2px solid var(--sklearn-color-text-on-default-background);\n",
       "  flex-grow: 1;\n",
       "}\n",
       "\n",
       "#sk-container-id-1 div.sk-parallel {\n",
       "  display: flex;\n",
       "  align-items: stretch;\n",
       "  justify-content: center;\n",
       "  background-color: var(--sklearn-color-background);\n",
       "  position: relative;\n",
       "}\n",
       "\n",
       "#sk-container-id-1 div.sk-parallel-item {\n",
       "  display: flex;\n",
       "  flex-direction: column;\n",
       "}\n",
       "\n",
       "#sk-container-id-1 div.sk-parallel-item:first-child::after {\n",
       "  align-self: flex-end;\n",
       "  width: 50%;\n",
       "}\n",
       "\n",
       "#sk-container-id-1 div.sk-parallel-item:last-child::after {\n",
       "  align-self: flex-start;\n",
       "  width: 50%;\n",
       "}\n",
       "\n",
       "#sk-container-id-1 div.sk-parallel-item:only-child::after {\n",
       "  width: 0;\n",
       "}\n",
       "\n",
       "/* Serial-specific style estimator block */\n",
       "\n",
       "#sk-container-id-1 div.sk-serial {\n",
       "  display: flex;\n",
       "  flex-direction: column;\n",
       "  align-items: center;\n",
       "  background-color: var(--sklearn-color-background);\n",
       "  padding-right: 1em;\n",
       "  padding-left: 1em;\n",
       "}\n",
       "\n",
       "\n",
       "/* Toggleable style: style used for estimator/Pipeline/ColumnTransformer box that is\n",
       "clickable and can be expanded/collapsed.\n",
       "- Pipeline and ColumnTransformer use this feature and define the default style\n",
       "- Estimators will overwrite some part of the style using the `sk-estimator` class\n",
       "*/\n",
       "\n",
       "/* Pipeline and ColumnTransformer style (default) */\n",
       "\n",
       "#sk-container-id-1 div.sk-toggleable {\n",
       "  /* Default theme specific background. It is overwritten whether we have a\n",
       "  specific estimator or a Pipeline/ColumnTransformer */\n",
       "  background-color: var(--sklearn-color-background);\n",
       "}\n",
       "\n",
       "/* Toggleable label */\n",
       "#sk-container-id-1 label.sk-toggleable__label {\n",
       "  cursor: pointer;\n",
       "  display: block;\n",
       "  width: 100%;\n",
       "  margin-bottom: 0;\n",
       "  padding: 0.5em;\n",
       "  box-sizing: border-box;\n",
       "  text-align: center;\n",
       "}\n",
       "\n",
       "#sk-container-id-1 label.sk-toggleable__label-arrow:before {\n",
       "  /* Arrow on the left of the label */\n",
       "  content: \"▸\";\n",
       "  float: left;\n",
       "  margin-right: 0.25em;\n",
       "  color: var(--sklearn-color-icon);\n",
       "}\n",
       "\n",
       "#sk-container-id-1 label.sk-toggleable__label-arrow:hover:before {\n",
       "  color: var(--sklearn-color-text);\n",
       "}\n",
       "\n",
       "/* Toggleable content - dropdown */\n",
       "\n",
       "#sk-container-id-1 div.sk-toggleable__content {\n",
       "  max-height: 0;\n",
       "  max-width: 0;\n",
       "  overflow: hidden;\n",
       "  text-align: left;\n",
       "  /* unfitted */\n",
       "  background-color: var(--sklearn-color-unfitted-level-0);\n",
       "}\n",
       "\n",
       "#sk-container-id-1 div.sk-toggleable__content.fitted {\n",
       "  /* fitted */\n",
       "  background-color: var(--sklearn-color-fitted-level-0);\n",
       "}\n",
       "\n",
       "#sk-container-id-1 div.sk-toggleable__content pre {\n",
       "  margin: 0.2em;\n",
       "  border-radius: 0.25em;\n",
       "  color: var(--sklearn-color-text);\n",
       "  /* unfitted */\n",
       "  background-color: var(--sklearn-color-unfitted-level-0);\n",
       "}\n",
       "\n",
       "#sk-container-id-1 div.sk-toggleable__content.fitted pre {\n",
       "  /* unfitted */\n",
       "  background-color: var(--sklearn-color-fitted-level-0);\n",
       "}\n",
       "\n",
       "#sk-container-id-1 input.sk-toggleable__control:checked~div.sk-toggleable__content {\n",
       "  /* Expand drop-down */\n",
       "  max-height: 200px;\n",
       "  max-width: 100%;\n",
       "  overflow: auto;\n",
       "}\n",
       "\n",
       "#sk-container-id-1 input.sk-toggleable__control:checked~label.sk-toggleable__label-arrow:before {\n",
       "  content: \"▾\";\n",
       "}\n",
       "\n",
       "/* Pipeline/ColumnTransformer-specific style */\n",
       "\n",
       "#sk-container-id-1 div.sk-label input.sk-toggleable__control:checked~label.sk-toggleable__label {\n",
       "  color: var(--sklearn-color-text);\n",
       "  background-color: var(--sklearn-color-unfitted-level-2);\n",
       "}\n",
       "\n",
       "#sk-container-id-1 div.sk-label.fitted input.sk-toggleable__control:checked~label.sk-toggleable__label {\n",
       "  background-color: var(--sklearn-color-fitted-level-2);\n",
       "}\n",
       "\n",
       "/* Estimator-specific style */\n",
       "\n",
       "/* Colorize estimator box */\n",
       "#sk-container-id-1 div.sk-estimator input.sk-toggleable__control:checked~label.sk-toggleable__label {\n",
       "  /* unfitted */\n",
       "  background-color: var(--sklearn-color-unfitted-level-2);\n",
       "}\n",
       "\n",
       "#sk-container-id-1 div.sk-estimator.fitted input.sk-toggleable__control:checked~label.sk-toggleable__label {\n",
       "  /* fitted */\n",
       "  background-color: var(--sklearn-color-fitted-level-2);\n",
       "}\n",
       "\n",
       "#sk-container-id-1 div.sk-label label.sk-toggleable__label,\n",
       "#sk-container-id-1 div.sk-label label {\n",
       "  /* The background is the default theme color */\n",
       "  color: var(--sklearn-color-text-on-default-background);\n",
       "}\n",
       "\n",
       "/* On hover, darken the color of the background */\n",
       "#sk-container-id-1 div.sk-label:hover label.sk-toggleable__label {\n",
       "  color: var(--sklearn-color-text);\n",
       "  background-color: var(--sklearn-color-unfitted-level-2);\n",
       "}\n",
       "\n",
       "/* Label box, darken color on hover, fitted */\n",
       "#sk-container-id-1 div.sk-label.fitted:hover label.sk-toggleable__label.fitted {\n",
       "  color: var(--sklearn-color-text);\n",
       "  background-color: var(--sklearn-color-fitted-level-2);\n",
       "}\n",
       "\n",
       "/* Estimator label */\n",
       "\n",
       "#sk-container-id-1 div.sk-label label {\n",
       "  font-family: monospace;\n",
       "  font-weight: bold;\n",
       "  display: inline-block;\n",
       "  line-height: 1.2em;\n",
       "}\n",
       "\n",
       "#sk-container-id-1 div.sk-label-container {\n",
       "  text-align: center;\n",
       "}\n",
       "\n",
       "/* Estimator-specific */\n",
       "#sk-container-id-1 div.sk-estimator {\n",
       "  font-family: monospace;\n",
       "  border: 1px dotted var(--sklearn-color-border-box);\n",
       "  border-radius: 0.25em;\n",
       "  box-sizing: border-box;\n",
       "  margin-bottom: 0.5em;\n",
       "  /* unfitted */\n",
       "  background-color: var(--sklearn-color-unfitted-level-0);\n",
       "}\n",
       "\n",
       "#sk-container-id-1 div.sk-estimator.fitted {\n",
       "  /* fitted */\n",
       "  background-color: var(--sklearn-color-fitted-level-0);\n",
       "}\n",
       "\n",
       "/* on hover */\n",
       "#sk-container-id-1 div.sk-estimator:hover {\n",
       "  /* unfitted */\n",
       "  background-color: var(--sklearn-color-unfitted-level-2);\n",
       "}\n",
       "\n",
       "#sk-container-id-1 div.sk-estimator.fitted:hover {\n",
       "  /* fitted */\n",
       "  background-color: var(--sklearn-color-fitted-level-2);\n",
       "}\n",
       "\n",
       "/* Specification for estimator info (e.g. \"i\" and \"?\") */\n",
       "\n",
       "/* Common style for \"i\" and \"?\" */\n",
       "\n",
       ".sk-estimator-doc-link,\n",
       "a:link.sk-estimator-doc-link,\n",
       "a:visited.sk-estimator-doc-link {\n",
       "  float: right;\n",
       "  font-size: smaller;\n",
       "  line-height: 1em;\n",
       "  font-family: monospace;\n",
       "  background-color: var(--sklearn-color-background);\n",
       "  border-radius: 1em;\n",
       "  height: 1em;\n",
       "  width: 1em;\n",
       "  text-decoration: none !important;\n",
       "  margin-left: 1ex;\n",
       "  /* unfitted */\n",
       "  border: var(--sklearn-color-unfitted-level-1) 1pt solid;\n",
       "  color: var(--sklearn-color-unfitted-level-1);\n",
       "}\n",
       "\n",
       ".sk-estimator-doc-link.fitted,\n",
       "a:link.sk-estimator-doc-link.fitted,\n",
       "a:visited.sk-estimator-doc-link.fitted {\n",
       "  /* fitted */\n",
       "  border: var(--sklearn-color-fitted-level-1) 1pt solid;\n",
       "  color: var(--sklearn-color-fitted-level-1);\n",
       "}\n",
       "\n",
       "/* On hover */\n",
       "div.sk-estimator:hover .sk-estimator-doc-link:hover,\n",
       ".sk-estimator-doc-link:hover,\n",
       "div.sk-label-container:hover .sk-estimator-doc-link:hover,\n",
       ".sk-estimator-doc-link:hover {\n",
       "  /* unfitted */\n",
       "  background-color: var(--sklearn-color-unfitted-level-3);\n",
       "  color: var(--sklearn-color-background);\n",
       "  text-decoration: none;\n",
       "}\n",
       "\n",
       "div.sk-estimator.fitted:hover .sk-estimator-doc-link.fitted:hover,\n",
       ".sk-estimator-doc-link.fitted:hover,\n",
       "div.sk-label-container:hover .sk-estimator-doc-link.fitted:hover,\n",
       ".sk-estimator-doc-link.fitted:hover {\n",
       "  /* fitted */\n",
       "  background-color: var(--sklearn-color-fitted-level-3);\n",
       "  color: var(--sklearn-color-background);\n",
       "  text-decoration: none;\n",
       "}\n",
       "\n",
       "/* Span, style for the box shown on hovering the info icon */\n",
       ".sk-estimator-doc-link span {\n",
       "  display: none;\n",
       "  z-index: 9999;\n",
       "  position: relative;\n",
       "  font-weight: normal;\n",
       "  right: .2ex;\n",
       "  padding: .5ex;\n",
       "  margin: .5ex;\n",
       "  width: min-content;\n",
       "  min-width: 20ex;\n",
       "  max-width: 50ex;\n",
       "  color: var(--sklearn-color-text);\n",
       "  box-shadow: 2pt 2pt 4pt #999;\n",
       "  /* unfitted */\n",
       "  background: var(--sklearn-color-unfitted-level-0);\n",
       "  border: .5pt solid var(--sklearn-color-unfitted-level-3);\n",
       "}\n",
       "\n",
       ".sk-estimator-doc-link.fitted span {\n",
       "  /* fitted */\n",
       "  background: var(--sklearn-color-fitted-level-0);\n",
       "  border: var(--sklearn-color-fitted-level-3);\n",
       "}\n",
       "\n",
       ".sk-estimator-doc-link:hover span {\n",
       "  display: block;\n",
       "}\n",
       "\n",
       "/* \"?\"-specific style due to the `<a>` HTML tag */\n",
       "\n",
       "#sk-container-id-1 a.estimator_doc_link {\n",
       "  float: right;\n",
       "  font-size: 1rem;\n",
       "  line-height: 1em;\n",
       "  font-family: monospace;\n",
       "  background-color: var(--sklearn-color-background);\n",
       "  border-radius: 1rem;\n",
       "  height: 1rem;\n",
       "  width: 1rem;\n",
       "  text-decoration: none;\n",
       "  /* unfitted */\n",
       "  color: var(--sklearn-color-unfitted-level-1);\n",
       "  border: var(--sklearn-color-unfitted-level-1) 1pt solid;\n",
       "}\n",
       "\n",
       "#sk-container-id-1 a.estimator_doc_link.fitted {\n",
       "  /* fitted */\n",
       "  border: var(--sklearn-color-fitted-level-1) 1pt solid;\n",
       "  color: var(--sklearn-color-fitted-level-1);\n",
       "}\n",
       "\n",
       "/* On hover */\n",
       "#sk-container-id-1 a.estimator_doc_link:hover {\n",
       "  /* unfitted */\n",
       "  background-color: var(--sklearn-color-unfitted-level-3);\n",
       "  color: var(--sklearn-color-background);\n",
       "  text-decoration: none;\n",
       "}\n",
       "\n",
       "#sk-container-id-1 a.estimator_doc_link.fitted:hover {\n",
       "  /* fitted */\n",
       "  background-color: var(--sklearn-color-fitted-level-3);\n",
       "}\n",
       "</style><div id=\"sk-container-id-1\" class=\"sk-top-container\"><div class=\"sk-text-repr-fallback\"><pre>LinearRegression()</pre><b>In a Jupyter environment, please rerun this cell to show the HTML representation or trust the notebook. <br />On GitHub, the HTML representation is unable to render, please try loading this page with nbviewer.org.</b></div><div class=\"sk-container\" hidden><div class=\"sk-item\"><div class=\"sk-estimator fitted sk-toggleable\"><input class=\"sk-toggleable__control sk-hidden--visually\" id=\"sk-estimator-id-1\" type=\"checkbox\" checked><label for=\"sk-estimator-id-1\" class=\"sk-toggleable__label fitted sk-toggleable__label-arrow fitted\">&nbsp;&nbsp;LinearRegression<a class=\"sk-estimator-doc-link fitted\" rel=\"noreferrer\" target=\"_blank\" href=\"https://scikit-learn.org/1.5/modules/generated/sklearn.linear_model.LinearRegression.html\">?<span>Documentation for LinearRegression</span></a><span class=\"sk-estimator-doc-link fitted\">i<span>Fitted</span></span></label><div class=\"sk-toggleable__content fitted\"><pre>LinearRegression()</pre></div> </div></div></div></div>"
      ],
      "text/plain": [
       "LinearRegression()"
      ]
     },
     "execution_count": 30,
     "metadata": {},
     "output_type": "execute_result"
    }
   ],
   "source": [
    "model.fit(X_train, y_train)"
   ]
  },
  {
   "cell_type": "code",
   "execution_count": 31,
   "metadata": {},
   "outputs": [
    {
     "data": {
      "text/plain": [
       "array([47.87043173, 41.85559913, 44.71261269, 41.46212663, 30.02969635,\n",
       "       42.2110399 , 45.82434602, 45.53154117, 24.72866294, 52.0065668 ,\n",
       "       31.9105569 , 34.82561007, 39.35008971, 24.78918294, 35.03545351,\n",
       "       33.04943707, 41.37752125, 47.26545783, 31.32519673, 44.22527536,\n",
       "        1.87256955, 33.63082397, 47.71291933, 43.54446892, 14.21001309,\n",
       "       41.42002695, 14.69731377, 44.71261269, 35.64006088, 36.84492772,\n",
       "       11.53445739, 39.22795105, 37.42861944, 28.41802485, 45.6622215 ,\n",
       "       31.07329565, 52.29937164, 15.35522096, 46.18472163, 39.65003576,\n",
       "       35.36664574, 40.23514214])"
      ]
     },
     "execution_count": 31,
     "metadata": {},
     "output_type": "execute_result"
    }
   ],
   "source": [
    "model.predict(X_test)"
   ]
  },
  {
   "cell_type": "markdown",
   "metadata": {},
   "source": [
    "#### Conclusion: if house is 1 yr old, have an MRT station 193 km away, have 6 nearby stores, latitude is 24, longitude is 121 and is situated in southeast region then :\n",
    "#### Actual Price(per unit area) = $45.1\n",
    "#### Predicted Price(per unit area) = $48.7"
   ]
  },
  {
   "cell_type": "markdown",
   "metadata": {},
   "source": [
    "## Weights and variance"
   ]
  },
  {
   "cell_type": "code",
   "execution_count": 32,
   "metadata": {},
   "outputs": [
    {
     "data": {
      "text/plain": [
       "array([-2.92804847e-01, -4.67399755e-03,  1.08330387e+00,  2.24277186e+02,\n",
       "       -2.94315553e+01])"
      ]
     },
     "execution_count": 32,
     "metadata": {},
     "output_type": "execute_result"
    }
   ],
   "source": [
    "model.coef_"
   ]
  },
  {
   "cell_type": "code",
   "execution_count": 33,
   "metadata": {},
   "outputs": [
    {
     "data": {
      "text/plain": [
       "numpy.ndarray"
      ]
     },
     "execution_count": 33,
     "metadata": {},
     "output_type": "execute_result"
    }
   ],
   "source": [
    "type(model.coef_)"
   ]
  },
  {
   "cell_type": "code",
   "execution_count": 35,
   "metadata": {},
   "outputs": [],
   "source": [
    "df = pd.DataFrame(data = model.coef_, columns=['Coefficient'], index = ['b1','b2','b3','b4','b5'])"
   ]
  },
  {
   "cell_type": "code",
   "execution_count": 36,
   "metadata": {},
   "outputs": [
    {
     "data": {
      "text/html": [
       "<div>\n",
       "<style scoped>\n",
       "    .dataframe tbody tr th:only-of-type {\n",
       "        vertical-align: middle;\n",
       "    }\n",
       "\n",
       "    .dataframe tbody tr th {\n",
       "        vertical-align: top;\n",
       "    }\n",
       "\n",
       "    .dataframe thead th {\n",
       "        text-align: right;\n",
       "    }\n",
       "</style>\n",
       "<table border=\"1\" class=\"dataframe\">\n",
       "  <thead>\n",
       "    <tr style=\"text-align: right;\">\n",
       "      <th></th>\n",
       "      <th>Coefficient</th>\n",
       "    </tr>\n",
       "  </thead>\n",
       "  <tbody>\n",
       "    <tr>\n",
       "      <th>b1</th>\n",
       "      <td>-0.292805</td>\n",
       "    </tr>\n",
       "    <tr>\n",
       "      <th>b2</th>\n",
       "      <td>-0.004674</td>\n",
       "    </tr>\n",
       "    <tr>\n",
       "      <th>b3</th>\n",
       "      <td>1.083304</td>\n",
       "    </tr>\n",
       "    <tr>\n",
       "      <th>b4</th>\n",
       "      <td>224.277186</td>\n",
       "    </tr>\n",
       "    <tr>\n",
       "      <th>b5</th>\n",
       "      <td>-29.431555</td>\n",
       "    </tr>\n",
       "  </tbody>\n",
       "</table>\n",
       "</div>"
      ],
      "text/plain": [
       "    Coefficient\n",
       "b1    -0.292805\n",
       "b2    -0.004674\n",
       "b3     1.083304\n",
       "b4   224.277186\n",
       "b5   -29.431555"
      ]
     },
     "execution_count": 36,
     "metadata": {},
     "output_type": "execute_result"
    }
   ],
   "source": [
    "df"
   ]
  },
  {
   "cell_type": "markdown",
   "metadata": {},
   "source": [
    "Conclusion : Value of weight b3 and b4 are high. b3 corresponds to no. of stores nearby & b4 corresponds to latitude.\n",
    "This means that the house price (per uit area) highly depends on no. of stores nearby and latitude."
   ]
  },
  {
   "cell_type": "markdown",
   "metadata": {},
   "source": [
    "### Regression Metrics"
   ]
  },
  {
   "cell_type": "code",
   "execution_count": 38,
   "metadata": {},
   "outputs": [],
   "source": [
    "y_actual = y_test\n",
    "y_predicted = model.predict(X_test)"
   ]
  },
  {
   "cell_type": "code",
   "execution_count": 39,
   "metadata": {},
   "outputs": [
    {
     "name": "stdout",
     "output_type": "stream",
     "text": [
      "MAE : $6.104464553977398\n"
     ]
    }
   ],
   "source": [
    "print(f'MAE : ${mean_absolute_error(y_actual, y_predicted)}')"
   ]
  },
  {
   "cell_type": "code",
   "execution_count": 40,
   "metadata": {},
   "outputs": [
    {
     "name": "stdout",
     "output_type": "stream",
     "text": [
      "RMSE : $8.422293171673784\n"
     ]
    }
   ],
   "source": [
    "print(f'RMSE : ${np.sqrt(mean_squared_error(y_actual, y_predicted))}')"
   ]
  },
  {
   "cell_type": "code",
   "execution_count": 41,
   "metadata": {},
   "outputs": [
    {
     "name": "stdout",
     "output_type": "stream",
     "text": [
      "R2 Score : 0.6380644701298452\n"
     ]
    }
   ],
   "source": [
    "print(f'R2 Score : {r2_score(y_actual, y_predicted)}')"
   ]
  },
  {
   "cell_type": "code",
   "execution_count": null,
   "metadata": {},
   "outputs": [],
   "source": []
  }
 ],
 "metadata": {
  "kernelspec": {
   "display_name": "base",
   "language": "python",
   "name": "python3"
  },
  "language_info": {
   "codemirror_mode": {
    "name": "ipython",
    "version": 3
   },
   "file_extension": ".py",
   "mimetype": "text/x-python",
   "name": "python",
   "nbconvert_exporter": "python",
   "pygments_lexer": "ipython3",
   "version": "3.12.7"
  }
 },
 "nbformat": 4,
 "nbformat_minor": 2
}
